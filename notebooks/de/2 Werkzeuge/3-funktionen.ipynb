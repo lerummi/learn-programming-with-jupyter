{
 "cells": [
  {
   "cell_type": "markdown",
   "metadata": {
    "vscode": {
     "languageId": "plaintext"
    }
   },
   "source": [
    "# Sammle Bonuspunkte auf dem Weg zum Schatz\n",
    "\n",
    "Abenteurer, ihr habt nun gelernt, wie ihr den Weg zum **Schatz** durch Variablen und Listen vereinfachen könnt. Wie du in den letzten Lektionen schon gesehen hast, gibt es einige besondere Wegpunkte, die bisher noch keine besondere Bedeutung hatten. Nun schreiben wir einzelnen Wegpunkten, die du passierst, besondere Fähigkeiten zu. Wieder kostet jede Passage kostet Lebenspunkte! Finde, den Weg, der die wenigsten Lebenspunkte kostet und nimm alle Bonuspunkte mit, die du bekommen kannst!\n",
    "Hinweis: Die Lebenspunkte sind in dieser Aufgabe anders vergeben als in den vorherigen Missionen.\n",
    "\n",
    "<center>\n",
    "<img src=\"../../../images/de/schatzkarte/treasure_map_locations.png\" height=800>\n",
    "</center>"
   ]
  },
  {
   "cell_type": "markdown",
   "metadata": {
    "vscode": {
     "languageId": "plaintext"
    }
   },
   "source": [
    "## Die Lebenspunkte\n",
    "\n",
    "Wenn du folgende Befehle ausführst, erfährst du, welche Wegabschnitte dich wie viele Lebenspunkte kosten. \n",
    "Sieh die die Karte oben an. Einzelne Wegpunkte haben immer einen Anfangs- und einen Endpunkt. Verbindest du\n",
    "Anfangs- und Endpunkt durch ein _ (Unterstrich) so erhältst du die Lebenspunkte, die dich die entsprechende\n",
    "Wegstrecke kosten. \n",
    "\n",
    "Dieses Mal wollen wir die Möglichkeit der Wegstrecken etwas einschränken, um etwas Übersichtlichkeit zu schaffen: Im Folgenden sind die Wege eingezeichnet, die wir für diese Aufgabe verwenden wollen."
   ]
  },
  {
   "cell_type": "code",
   "execution_count": null,
   "metadata": {},
   "outputs": [],
   "source": [
    "from funktionen import *\n",
    "from funktionen import G, zeichne\n",
    "\n",
    "zeichne(G)"
   ]
  },
  {
   "cell_type": "markdown",
   "metadata": {},
   "source": [
    "Wieder gibt es **Variablen**, die den einzelnen Abschnitten zugeordnet sind, wie z.B."
   ]
  },
  {
   "cell_type": "code",
   "execution_count": null,
   "metadata": {},
   "outputs": [],
   "source": [
    "print(Start_c)\n",
    "print(c_Zwerg)\n",
    "print(Magier_y)"
   ]
  },
  {
   "cell_type": "markdown",
   "metadata": {},
   "source": [
    "Die Lebenspunkte auf den Wegstrecken bleiben wie bei den letzten Mal gleich. Diesmal gibt es allerdings Bonuspunkte an verschiedenen Wegpunkten. Die Vergabe der Bonuspunkte werden wir durch **Funktionen** ermöglichen. "
   ]
  },
  {
   "cell_type": "markdown",
   "metadata": {},
   "source": [
    "# Was sind Funktionen?\n",
    "\n",
    "Funktionen sind nützliche Hilfsmittel, um **Operationen** an **Eingabevariablen** vorzunehmen. Ein einfaches Beispiel für eine Funktion ist dies hier:"
   ]
  },
  {
   "cell_type": "code",
   "execution_count": null,
   "metadata": {},
   "outputs": [],
   "source": [
    "def verdopple(x):\n",
    "    doppelt = 2 * x\n",
    "    return doppelt"
   ]
  },
  {
   "cell_type": "markdown",
   "metadata": {},
   "source": [
    "Eine Funktion wird definiert durch einen **Namen** (hier: *verdopple*) mit **def** vorangestellt, eine Menge von **Eingabevariablen** (hier: *x*), einen **Funktionskörper** (hier: *doppelt = 2 * x*) und (optional) einen **Rückgabewert** (hier *return *doppelt*). Die **Variable** hat hier nur eine symbolische Wirkung: Sie kann beliebig benannt werden und steht für einen Wert, den wir der Funktion übergeben, z.B."
   ]
  },
  {
   "cell_type": "code",
   "execution_count": null,
   "metadata": {},
   "outputs": [],
   "source": [
    "verdopple(5)"
   ]
  },
  {
   "cell_type": "code",
   "execution_count": null,
   "metadata": {},
   "outputs": [],
   "source": [
    "meine_zahl = 4\n",
    "verdopple(meine_zahl)"
   ]
  },
  {
   "cell_type": "markdown",
   "metadata": {},
   "source": [
    "Es ist relativ einfach zu verstehen, wie eine Funktion funktioniert. Dies wollen wir hier üben. Neben der Funktion **verdopple** sind z.B. auch folgende Funktionen möglich:"
   ]
  },
  {
   "cell_type": "code",
   "execution_count": null,
   "metadata": {},
   "outputs": [],
   "source": [
    "# Funktion ohne Eingabe\n",
    "def ohne_eingabe():\n",
    "    print(\"Ich schreibe nur einen Text\")\n",
    "\n",
    "# Function mit 2 Variablen\n",
    "def dividiere(a, b):\n",
    "    ergebnis = a / b\n",
    "    return ergebnis\n",
    "\n",
    "# Funktion, die sich selber aufruft\n",
    "def fakultaet(n):\n",
    "    return n * fakultaet(n - 1) if n > 1 else 1"
   ]
  },
  {
   "cell_type": "markdown",
   "metadata": {},
   "source": [
    "So kann man die Funktionen benutzen. Probiere ein Paar verschiedene Eingabevariablen aus:"
   ]
  },
  {
   "cell_type": "code",
   "execution_count": null,
   "metadata": {},
   "outputs": [],
   "source": [
    "ohne_eingabe()"
   ]
  },
  {
   "cell_type": "code",
   "execution_count": null,
   "metadata": {},
   "outputs": [],
   "source": [
    "dividiere(4, 3)"
   ]
  },
  {
   "cell_type": "code",
   "execution_count": null,
   "metadata": {},
   "outputs": [],
   "source": [
    "fakultaet(5)"
   ]
  },
  {
   "cell_type": "markdown",
   "metadata": {},
   "source": [
    "## Deine Aufgabe\n",
    "\n",
    "Finde den Weg, der die geringsten Lebenspunkte kostet. Dieses Mal gibt es an verschiedenen Orten aber Bonuspunkte.\n"
   ]
  },
  {
   "cell_type": "code",
   "execution_count": null,
   "metadata": {},
   "outputs": [],
   "source": [
    "zeichne(G)"
   ]
  },
  {
   "cell_type": "markdown",
   "metadata": {},
   "source": [
    "### Aufgabe 1.\n",
    "\n",
    "Definiere eine Funktion, die als Ausgabewert -15 ausgibt. Diese Funktion soll aufgerufen werden, wenn wir beim Zwerg vorbeikommen, deshalb nennen wir die Funktion entsprechend."
   ]
  },
  {
   "cell_type": "code",
   "execution_count": null,
   "metadata": {},
   "outputs": [],
   "source": [
    "def Zwerg():\n",
    "    # Dein Code hier\n",
    "    ..."
   ]
  },
  {
   "cell_type": "markdown",
   "metadata": {},
   "source": [
    "Wenn wir nun Wege vom **Start** zum **Schatz** gehen und beim Zwerg vorbeikommen, können wir das so berücksichtigen:"
   ]
  },
  {
   "cell_type": "code",
   "execution_count": null,
   "metadata": {},
   "outputs": [],
   "source": [
    "Start_c + c_Zwerg + Zwerg() + Zwerg_y + y_Schatz"
   ]
  },
  {
   "cell_type": "markdown",
   "metadata": {},
   "source": [
    "Welcher Weg ist in diesem Fall der Kürzeste?"
   ]
  },
  {
   "cell_type": "code",
   "execution_count": null,
   "metadata": {},
   "outputs": [],
   "source": []
  },
  {
   "cell_type": "markdown",
   "metadata": {},
   "source": [
    "### Aufgabe 2.\n",
    "\n",
    "Definiere nun eine Funktion, die den Eingabewert halbiert. Diese Funktion soll aufgerufen werden, wenn wir bei der Hexe vorbeikommen."
   ]
  },
  {
   "cell_type": "code",
   "execution_count": null,
   "metadata": {},
   "outputs": [],
   "source": [
    "def Hexe(wegabschnitt):\n",
    "    # Dein Code hier\n",
    "    ..."
   ]
  },
  {
   "cell_type": "markdown",
   "metadata": {},
   "source": [
    "Ein Weg der über die Hexe führt, führt dazu, dass die Lebenspunkte für den nächsten Wegabschnitt halbiert werden."
   ]
  },
  {
   "cell_type": "code",
   "execution_count": null,
   "metadata": {},
   "outputs": [],
   "source": [
    "Start_c + c_Hexe + Hexe(Hexe_y) + y_Schatz"
   ]
  },
  {
   "cell_type": "markdown",
   "metadata": {},
   "source": [
    "Welcher ist nun der beste Weg?"
   ]
  },
  {
   "cell_type": "code",
   "execution_count": null,
   "metadata": {},
   "outputs": [],
   "source": []
  },
  {
   "cell_type": "markdown",
   "metadata": {},
   "source": [
    "### Aufgabe 3. \n",
    "\n",
    "Nun gibt es noch den **Magier** und den **Riesen**. Definiere Funktionen mit folgenden Eigenschaften:\n",
    "\n",
    "- Magier: Der nächste Wegabschnitt kostet ein Viertel des Normalwertes, der übernächste die Hälfte.\n",
    "- Riese: Bei den Kosten für den nächsten Wegabschnitt werden die Kosten des vorherigen Weges abgezogen. \n",
    "\n",
    "Definiere die Funktionen:"
   ]
  },
  {
   "cell_type": "code",
   "execution_count": null,
   "metadata": {},
   "outputs": [],
   "source": []
  },
  {
   "cell_type": "markdown",
   "metadata": {},
   "source": [
    "Nun finde den besten Weg!"
   ]
  },
  {
   "cell_type": "code",
   "execution_count": null,
   "metadata": {},
   "outputs": [],
   "source": []
  },
  {
   "cell_type": "markdown",
   "metadata": {},
   "source": []
  },
  {
   "cell_type": "markdown",
   "metadata": {},
   "source": []
  }
 ],
 "metadata": {
  "kernelspec": {
   "display_name": ".venv",
   "language": "python",
   "name": "python3"
  },
  "language_info": {
   "codemirror_mode": {
    "name": "ipython",
    "version": 3
   },
   "file_extension": ".py",
   "mimetype": "text/x-python",
   "name": "python",
   "nbconvert_exporter": "python",
   "pygments_lexer": "ipython3",
   "version": "3.12.5"
  }
 },
 "nbformat": 4,
 "nbformat_minor": 2
}

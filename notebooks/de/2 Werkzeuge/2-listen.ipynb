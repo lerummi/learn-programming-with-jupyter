{
 "cells": [
  {
   "cell_type": "markdown",
   "metadata": {},
   "source": [
    "# Eine andere Variante den Weg zum Schatz zu beschreiben\n",
    "\n",
    "Abenteurer, ihr habt nun gelernt, wie ihr den Weg zum Ziel durch Variablen vereinfachen könnt. Nun wollen wir - neben den Variablen - eine andere Variante erlernen, wie man den besten Weg vom **Start** zum **Schatz** finden kann. Wieder kostet jede Passage kostet Lebenspunkte! Finde, den Weg, der die wenigsten Lebenspunkte kostet!\n",
    "Hinweis: Die Lebenspunkte sind in dieser Aufgabe anders vergeben als in der vorherigen Mission.\n",
    "\n",
    "<center>\n",
    "<img src=\"../../../images/de/schatzkarte/treasure_map_locations.png\" height=800>\n",
    "</center>"
   ]
  },
  {
   "cell_type": "markdown",
   "metadata": {},
   "source": []
  },
  {
   "cell_type": "markdown",
   "metadata": {},
   "source": [
    "## Die Lebenspunkte\n",
    "\n",
    "Wenn du folgende Befehle ausführst, erfährst du, welche Wegabschnitte dich wie viele Lebenspunkte kosten. \n",
    "Sieh die die Karte oben an. Einzelne Wegpunkte haben immer einen Anfangs- und einen Endpunkt. Verbindest du\n",
    "Anfangs- und Endpunkt durch ein _ (Unterstrich) so erhältst du die Lebenspunkte, die dich die entsprechende\n",
    "Wegstrecke kosten. "
   ]
  },
  {
   "cell_type": "code",
   "execution_count": 1,
   "metadata": {},
   "outputs": [],
   "source": [
    "from variablen import lebenspunkte, veraendere_lebenspunkte\n",
    "lebenspunkte = veraendere_lebenspunkte(lebenspunkte)"
   ]
  },
  {
   "cell_type": "markdown",
   "metadata": {},
   "source": [
    "Und hier hast du die Kosten an Lebenspunkten für alle Abschnitte in einer Tabelle zusammengefasst."
   ]
  },
  {
   "cell_type": "code",
   "execution_count": null,
   "metadata": {},
   "outputs": [],
   "source": [
    "lebenspunkte"
   ]
  },
  {
   "cell_type": "markdown",
   "metadata": {},
   "source": [
    "## Was ist eine Liste?\n",
    "\n",
    "In der letzten Aufgabe hast du **Variablen** erstellt, in dem du Wegabschnitte zusammengefasst hast. Die Variablen, die du benannt hast\n",
    "haben dann immer größere Wegstrecken entsprochen und so war es leicht, die **Lebenspunkte** von **Start** zu **Schatz** zu berechnen.\n",
    "\n",
    "Diese Zusammenfassung wollen wir in dieser Lektion nicht machen, sondern einzelne Wegabschnitte in sogannten **Listen** zusammenfassen. \n",
    "Zunächst importieren wir wieder alle Variablen:"
   ]
  },
  {
   "cell_type": "code",
   "execution_count": 4,
   "metadata": {},
   "outputs": [],
   "source": [
    "# Importiere alle Variablen\n",
    "from variablen import lebenspunkte_als_variablen\n",
    "globals().update(lebenspunkte_als_variablen(lebenspunkte))"
   ]
  },
  {
   "cell_type": "markdown",
   "metadata": {},
   "source": [
    "Wir schauen uns die Variable **Start_a** an:"
   ]
  },
  {
   "cell_type": "code",
   "execution_count": null,
   "metadata": {},
   "outputs": [],
   "source": [
    "Start_a"
   ]
  },
  {
   "cell_type": "markdown",
   "metadata": {},
   "source": [
    "Die nächste Variable ist"
   ]
  },
  {
   "cell_type": "code",
   "execution_count": null,
   "metadata": {},
   "outputs": [],
   "source": [
    "a_b"
   ]
  },
  {
   "cell_type": "markdown",
   "metadata": {},
   "source": [
    "## Wie erstellt man eine Liste?\n",
    "\n",
    "Wir können den Wegabschnitt von **Start** nach **b** in einer Liste folgendermaßen speichern:"
   ]
  },
  {
   "cell_type": "code",
   "execution_count": 8,
   "metadata": {},
   "outputs": [],
   "source": [
    "erster_abschnitt = [Start_a, a_b]"
   ]
  },
  {
   "cell_type": "markdown",
   "metadata": {},
   "source": [
    "Die Wegabschnitte sind dort als **Elemente** der Liste gespeichert:"
   ]
  },
  {
   "cell_type": "code",
   "execution_count": null,
   "metadata": {},
   "outputs": [],
   "source": [
    "erster_abschnitt"
   ]
  },
  {
   "cell_type": "markdown",
   "metadata": {},
   "source": [
    "Du hast verschiede Möglichkeiten, wie du die Liste verändern kannst, z.B."
   ]
  },
  {
   "cell_type": "code",
   "execution_count": null,
   "metadata": {},
   "outputs": [],
   "source": [
    "# Das nächste Element hinzufügen ...\n",
    "erster_abschnitt.append(b_c)\n",
    "erster_abschnitt"
   ]
  },
  {
   "cell_type": "code",
   "execution_count": null,
   "metadata": {},
   "outputs": [],
   "source": [
    "# Ein Element entfernen ...\n",
    "erster_abschnitt.remove(b_c)\n",
    "erster_abschnitt"
   ]
  },
  {
   "cell_type": "code",
   "execution_count": null,
   "metadata": {},
   "outputs": [],
   "source": [
    "# Eine andere Liste dranhängen\n",
    "erster_abschnitt = erster_abschnitt + [b_c, c_d]\n",
    "erster_abschnitt"
   ]
  },
  {
   "cell_type": "markdown",
   "metadata": {},
   "source": [
    "Und hiermit hast du den Abschnitt von **Start** nach **d** in einer Liste gespeichert!"
   ]
  },
  {
   "cell_type": "markdown",
   "metadata": {},
   "source": [
    "## Wie kann man auf einzelne Elemente der Liste zugreifen?\n",
    "\n",
    "Manchmal möchte man folgende Dinge mit einer Liste tun:\n",
    "\n",
    "1. wissen an welcher Stelle der Liste ein Element steht\n",
    "2. ein Element an einer bestimmten Stelle wissen\n",
    "3. einen Teil der Liste filtern"
   ]
  },
  {
   "cell_type": "markdown",
   "metadata": {},
   "source": [
    "Fangen wir damit an, herauszufinden, wie wir die **Position** eines Elementes, z.B. **Start_a** finden:"
   ]
  },
  {
   "cell_type": "code",
   "execution_count": null,
   "metadata": {},
   "outputs": [],
   "source": [
    "# Wo ist Start_a\n",
    "erster_abschnitt.index(Start_a)"
   ]
  },
  {
   "cell_type": "markdown",
   "metadata": {},
   "source": [
    "**Null? Wieso Null?** ... Sollte **Start_a** nicht an der ersten Stelle sein? Jein ... die Listenelemente werden von 0 gezählt, dementsprechend ist das Element **c_d** an der Stelle"
   ]
  },
  {
   "cell_type": "code",
   "execution_count": null,
   "metadata": {},
   "outputs": [],
   "source": [
    "erster_abschnitt.index(c_d)"
   ]
  },
  {
   "cell_type": "markdown",
   "metadata": {},
   "source": [
    "Wenn wir das verstanden haben, ergeben auch folgende Dinge Sinn ..."
   ]
  },
  {
   "cell_type": "code",
   "execution_count": null,
   "metadata": {},
   "outputs": [],
   "source": [
    "# Element an der nullten Stelle\n",
    "erster_abschnitt[0]"
   ]
  },
  {
   "cell_type": "code",
   "execution_count": null,
   "metadata": {},
   "outputs": [],
   "source": [
    "# Element an der zweiten Stelle\n",
    "erster_abschnitt[2]"
   ]
  },
  {
   "cell_type": "markdown",
   "metadata": {},
   "source": [
    "Wie greifen wir jetzt einen Teil der Liste heraus? Hier arbeiten wir mit dem **:** Operator. So können wir z.B. Teile der Liste herausfinden von Element 1 bis 3"
   ]
  },
  {
   "cell_type": "code",
   "execution_count": null,
   "metadata": {},
   "outputs": [],
   "source": [
    "erster_abschnitt[1:3]"
   ]
  },
  {
   "cell_type": "markdown",
   "metadata": {},
   "source": [
    "Wollen wir die Listenelement ganz von vorne oder bis ganz ans Ende ausgeben, so können wir in diesem Fall auch 0 bzw. 3 einfach weglassen ..."
   ]
  },
  {
   "cell_type": "code",
   "execution_count": null,
   "metadata": {},
   "outputs": [],
   "source": [
    "erster_abschnitt[:2]"
   ]
  },
  {
   "cell_type": "code",
   "execution_count": null,
   "metadata": {},
   "outputs": [],
   "source": [
    "erster_abschnitt[1:]"
   ]
  },
  {
   "cell_type": "markdown",
   "metadata": {},
   "source": [
    "## Befehle, die man auf Listen anwenden kann\n",
    "\n",
    "Listen erlauben uns eine gute Organisation von Elementen. Darüber hinaus gibt es aber auch nützliche Befehle, die wir darauf anwenden können, wenn wir verschiedene Dinge über sie wissen wollen, z.B."
   ]
  },
  {
   "cell_type": "code",
   "execution_count": null,
   "metadata": {},
   "outputs": [],
   "source": [
    "# Wie viele Element hat meine Liste?\n",
    "len(erster_abschnitt)"
   ]
  },
  {
   "cell_type": "code",
   "execution_count": null,
   "metadata": {},
   "outputs": [],
   "source": [
    "# Wie ist die Summe der Elemente in meiner Liste?\n",
    "sum(erster_abschnitt)"
   ]
  },
  {
   "cell_type": "markdown",
   "metadata": {},
   "source": [
    "# Deine Aufgabe\n",
    "\n",
    "Deine Aufgabe ist es, den Weg zum Schatz zu finden, der die wenigsten Lebenspunkte kostet. Bilde dazu eine oder mehrere Listen und hänge die Elemente geschickt aneinander.\n",
    "Die wichtigen Dinge von open noch einmal zusammengefasst:"
   ]
  },
  {
   "cell_type": "code",
   "execution_count": 30,
   "metadata": {},
   "outputs": [],
   "source": [
    "Start_d = [Start_a, a_b, b_c, c_d]"
   ]
  },
  {
   "cell_type": "markdown",
   "metadata": {},
   "source": [
    "Lebenspunkte, die dieser Abschnitt kostet:"
   ]
  },
  {
   "cell_type": "code",
   "execution_count": null,
   "metadata": {},
   "outputs": [],
   "source": [
    "sum(Start_d)"
   ]
  },
  {
   "cell_type": "markdown",
   "metadata": {},
   "source": [
    "Hänge mehrere Wegstrecken zusammen:"
   ]
  },
  {
   "cell_type": "code",
   "execution_count": null,
   "metadata": {},
   "outputs": [],
   "source": [
    "y_Schatz = [y_z, z_Schatz]\n",
    "Start_d + y_Schatz"
   ]
  },
  {
   "cell_type": "markdown",
   "metadata": {},
   "source": [
    "Nutze, was du über Variablen gelernt hast, probiere verschiedene Wege aus und finde den Weg, der die wenigsten Lebenspunkte kostet!"
   ]
  },
  {
   "cell_type": "markdown",
   "metadata": {},
   "source": [
    "## Aufgabe 1\n",
    "\n",
    "Erstelle eine Liste mit Elementen von **c** nach **l**"
   ]
  },
  {
   "cell_type": "code",
   "execution_count": null,
   "metadata": {},
   "outputs": [],
   "source": [
    "c_l = "
   ]
  },
  {
   "cell_type": "markdown",
   "metadata": {},
   "source": [
    "Berechne die Anzahl der Lebenspunkte!"
   ]
  },
  {
   "cell_type": "code",
   "execution_count": null,
   "metadata": {},
   "outputs": [],
   "source": []
  },
  {
   "cell_type": "markdown",
   "metadata": {},
   "source": [
    "## Aufgabe 2\n",
    "\n",
    "Erstelle auch die Listen für die folgenden Abschnitte:"
   ]
  },
  {
   "cell_type": "code",
   "execution_count": null,
   "metadata": {},
   "outputs": [],
   "source": [
    "l_y = \n",
    "c_o = \n",
    "o_r = \n",
    "e_r = \n",
    "r_y = \n",
    "l_s = \n",
    "d_s = \n",
    "y_Schatz ="
   ]
  },
  {
   "cell_type": "markdown",
   "metadata": {},
   "source": [
    "## Aufgabe 3\n",
    "\n",
    "Kombiniere verschiedene Abschnitte so, dass sie der Wegstrecke **Start_Schatz** bilden. Ordne ihnen Variablen mit sinnvollen Namen zu, z.B. **weg_ueber_den_zwerg**, wenn der Weg beim Zwerg vorbei kommt."
   ]
  },
  {
   "cell_type": "code",
   "execution_count": null,
   "metadata": {},
   "outputs": [],
   "source": []
  },
  {
   "cell_type": "markdown",
   "metadata": {},
   "source": [
    "Berechne die für die Wege erforderlichen Lebenspunkte! Welcher Weg ist der Effizienteste?"
   ]
  },
  {
   "cell_type": "code",
   "execution_count": null,
   "metadata": {},
   "outputs": [],
   "source": []
  },
  {
   "cell_type": "markdown",
   "metadata": {},
   "source": [
    "## Zusatzaufgaben\n",
    "\n",
    "Wir verändern nun die erforderlichen Lebenspunkte auf verschiedene Weise. Berechne die Lebenspunkte unter diesen Bedingungen neu!"
   ]
  },
  {
   "cell_type": "markdown",
   "metadata": {},
   "source": [
    "1. Die Strecken **d_e** und **k_l** sind kostenfrei. Verändere die Listen aus **Aufgabe 2** so, dass dies berücksichtigt wird.\n",
    "\n",
    "Hinweis: Verwende dazu\n",
    "\n",
    "`liste.remove(wegstrecke)`"
   ]
  },
  {
   "cell_type": "code",
   "execution_count": null,
   "metadata": {},
   "outputs": [],
   "source": []
  },
  {
   "cell_type": "markdown",
   "metadata": {},
   "source": [
    "Berechne die Abschnitte aus **Aufgabe 3** neu. Berechne dann die erforderlichen Lebenspunkte neu. Was ist nun der günstigste Weg?"
   ]
  },
  {
   "cell_type": "code",
   "execution_count": null,
   "metadata": {},
   "outputs": [],
   "source": []
  },
  {
   "cell_type": "markdown",
   "metadata": {},
   "source": [
    "2. Zusätzlich zu 1. werden die Strecken **d_i** und **d_n** doppelt so teuer. Berechne die Lebenspunkte unter diesen Bedingungen neu!\n",
    "\n",
    "Hinweis: Verwende dazu\n",
    "\n",
    "`liste.append(wegstrecke)`"
   ]
  },
  {
   "cell_type": "code",
   "execution_count": null,
   "metadata": {},
   "outputs": [],
   "source": []
  },
  {
   "cell_type": "markdown",
   "metadata": {},
   "source": [
    "Berechne die Abschnitte aus **Aufgabe 3** neu. Berechne dann die erforderlichen Lebenspunkte neu. Was ist nun der günstigste Weg?"
   ]
  },
  {
   "cell_type": "code",
   "execution_count": null,
   "metadata": {},
   "outputs": [],
   "source": []
  },
  {
   "cell_type": "markdown",
   "metadata": {},
   "source": []
  }
 ],
 "metadata": {
  "kernelspec": {
   "display_name": ".venv",
   "language": "python",
   "name": "python3"
  },
  "language_info": {
   "codemirror_mode": {
    "name": "ipython",
    "version": 3
   },
   "file_extension": ".py",
   "mimetype": "text/x-python",
   "name": "python",
   "nbconvert_exporter": "python",
   "pygments_lexer": "ipython3",
   "version": "3.12.5"
  }
 },
 "nbformat": 4,
 "nbformat_minor": 2
}

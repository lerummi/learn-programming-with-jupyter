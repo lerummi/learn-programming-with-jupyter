{
 "cells": [
  {
   "cell_type": "markdown",
   "metadata": {},
   "source": [
    "# Finde den besten Weg zum Schatz\n",
    "\n",
    "Abenteurer, seht folgende Schatzkarte. Dein Ziel ist es den besten Weg vom **Start** zum **Schatz** zu finden. Jede Passage kostet dich Lebenspunkte, und damit musst du gut haushalten! Finde, den Weg, der die wenigsten Lebenspunkte kostet!\n",
    "\n",
    "<center>\n",
    "<img src=\"../../../images/de/schatzkarte/treasure_map_locations.png\" height=800>\n",
    "</center>"
   ]
  },
  {
   "cell_type": "markdown",
   "metadata": {},
   "source": []
  },
  {
   "cell_type": "markdown",
   "metadata": {},
   "source": [
    "## Die Lebenspunkte\n",
    "\n",
    "Wenn du folgende Befehle ausführst, erfährst du, welche Wegabschnitte dich wie viele Lebenspunkte kosten. \n",
    "Sieh die die Karte oben an. Einzelne Wegpunkte haben immer einen Anfangs- und einen Endpunkt. Verbindest du\n",
    "Anfangs- und Endpunkt durch ein _ (Unterstrich) so erhältst du die Lebenspunkte, die dich die entsprechende\n",
    "Wegstrecke kosten. "
   ]
  },
  {
   "cell_type": "code",
   "execution_count": 1,
   "metadata": {},
   "outputs": [],
   "source": [
    "from variablen import lebenspunkte"
   ]
  },
  {
   "cell_type": "markdown",
   "metadata": {},
   "source": [
    "Und hier hast du die Kosten an Lebenspunkten für alle Abschnitte in einer Tabelle zusammengefasst."
   ]
  },
  {
   "cell_type": "code",
   "execution_count": null,
   "metadata": {},
   "outputs": [],
   "source": [
    "lebenspunkte"
   ]
  },
  {
   "cell_type": "markdown",
   "metadata": {},
   "source": [
    "## Was ist eine Variable?\n",
    "\n",
    "In den letzten Aufgaben musstest du immer in die Tabelle schauen, um zu wissen, welcher Wert (hier **Lebenspunkte**) zu welchem Objekt\n",
    "(hier **von** und **bis**) gehört. Damit ist jetzt Schluß, denn wir lernen **Variablen** kennen. Eine **Variable** ist ein Objekt, dem\n",
    "ein **Wert** zugeordnet ist. Zunächst laden wir alle Variablen und dann schauen wir uns einzelne Variablen an."
   ]
  },
  {
   "cell_type": "code",
   "execution_count": null,
   "metadata": {},
   "outputs": [],
   "source": [
    "# Importiere alle Variablen\n",
    "from variablen import *"
   ]
  },
  {
   "cell_type": "markdown",
   "metadata": {},
   "source": [
    "Nun, schauen wir uns die Variable **Start_a** an:"
   ]
  },
  {
   "cell_type": "code",
   "execution_count": null,
   "metadata": {},
   "outputs": [],
   "source": [
    "Start_a"
   ]
  },
  {
   "cell_type": "markdown",
   "metadata": {},
   "source": [
    "Die Variable hat den Wert, der den Lebenspunkten von **Start** nach **a** entspricht. Das gleiche gilt auch für den Rückweg:"
   ]
  },
  {
   "cell_type": "code",
   "execution_count": null,
   "metadata": {},
   "outputs": [],
   "source": [
    "a_Start"
   ]
  },
  {
   "cell_type": "markdown",
   "metadata": {},
   "source": [
    "Suche gerne ein Paar Variablen aus der obigen Tabellen, du wirst jede finden!"
   ]
  },
  {
   "cell_type": "code",
   "execution_count": null,
   "metadata": {},
   "outputs": [],
   "source": [
    "print(v_h)\n",
    "print(b_c)\n",
    "print(g_Hexe)\n",
    "# Gerne noch ein Paar andere ..."
   ]
  },
  {
   "cell_type": "markdown",
   "metadata": {},
   "source": [
    "## Wie benennt man eine Variable?\n",
    "\n",
    "Eine Variable benennt man in etwa so:\n",
    "\n",
    "`variablen_name = variablen_wert`\n",
    "\n",
    "Auf der linken Seite steht also der Name der Variablen, die wir bennenen wollen.\n",
    "\n",
    "In der Mitte steht ein \"=\" Zeichen.\n",
    "\n",
    "Auf der rechten Seite steht der Wert, den die Variablen haben soll. Der Wert kann auch eine Berechnung sein. \n",
    "\n",
    "Und so können wir folgende Variablen definieren"
   ]
  },
  {
   "cell_type": "code",
   "execution_count": 7,
   "metadata": {},
   "outputs": [],
   "source": [
    "meine_variable = 15"
   ]
  },
  {
   "cell_type": "code",
   "execution_count": null,
   "metadata": {},
   "outputs": [],
   "source": [
    "meine_variable"
   ]
  },
  {
   "cell_type": "code",
   "execution_count": 11,
   "metadata": {},
   "outputs": [],
   "source": [
    "zeichenketten_variable = \"Wer das liesst, ist doof\""
   ]
  },
  {
   "cell_type": "code",
   "execution_count": null,
   "metadata": {},
   "outputs": [],
   "source": [
    "zeichenketten_variable"
   ]
  },
  {
   "cell_type": "code",
   "execution_count": 13,
   "metadata": {},
   "outputs": [],
   "source": [
    "eine_variable_nach_berechnung = 3 + 4.5"
   ]
  },
  {
   "cell_type": "code",
   "execution_count": null,
   "metadata": {},
   "outputs": [],
   "source": [
    "eine_variable_nach_berechnung"
   ]
  },
  {
   "cell_type": "markdown",
   "metadata": {},
   "source": [
    "## Wie kann man Variablen aus anderen Variablen erstellen?\n",
    "\n",
    "Das ist sehr einfach! Erstelle einfach eine neue Variable (links) und setzt sie gleich einer Berechnung (rechts), die eine andere Variable enthält, oder mehrere davon."
   ]
  },
  {
   "cell_type": "code",
   "execution_count": 17,
   "metadata": {},
   "outputs": [],
   "source": [
    "noch_eine_variable = meine_variable + eine_variable_nach_berechnung - 42"
   ]
  },
  {
   "cell_type": "code",
   "execution_count": null,
   "metadata": {},
   "outputs": [],
   "source": [
    "noch_eine_variable"
   ]
  },
  {
   "cell_type": "markdown",
   "metadata": {},
   "source": [
    "# Deine Aufgabe\n",
    "\n",
    "Deine Aufgabe ist es, den Weg zum Schatz zu finden, der die wenigsten Lebenspunkte kostet. Natürlich kannst du einfach in die Tabelle schauen und die Lebenspunkte für die\n",
    "einzelnen Strecken aufzusummieren. Wie z.B. auf dem Weg von \"Start\" nach \"c\":"
   ]
  },
  {
   "cell_type": "code",
   "execution_count": null,
   "metadata": {},
   "outputs": [],
   "source": [
    "Start_c = 5 + 6 + 2\n",
    "Start_c"
   ]
  },
  {
   "cell_type": "markdown",
   "metadata": {},
   "source": [
    "bzw. vom \"Start\" nach \"d\":"
   ]
  },
  {
   "cell_type": "code",
   "execution_count": null,
   "metadata": {},
   "outputs": [],
   "source": [
    "Start_d = Start_c + c_d\n",
    "Start_d"
   ]
  },
  {
   "cell_type": "markdown",
   "metadata": {},
   "source": [
    "Nutze, was du über Variablen gelernt hast, probiere verschiedene Wege aus und finde den Weg, der die wenigsten Lebenspunkte kostet!"
   ]
  },
  {
   "cell_type": "code",
   "execution_count": null,
   "metadata": {},
   "outputs": [],
   "source": []
  }
 ],
 "metadata": {
  "kernelspec": {
   "display_name": ".venv",
   "language": "python",
   "name": "python3"
  },
  "language_info": {
   "codemirror_mode": {
    "name": "ipython",
    "version": 3
   },
   "file_extension": ".py",
   "mimetype": "text/x-python",
   "name": "python",
   "nbconvert_exporter": "python",
   "pygments_lexer": "ipython3",
   "version": "3.12.5"
  }
 },
 "nbformat": 4,
 "nbformat_minor": 2
}

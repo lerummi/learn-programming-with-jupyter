{
 "cells": [
  {
   "cell_type": "markdown",
   "metadata": {},
   "source": [
    "# Finde den besten Weg zum Schatz\n",
    "\n",
    "Abenteurer, seht folgende Schatzkarte. Dein Ziel ist es den besten Weg vom **Start** zum **Schatz** zu finden. Jede Passage kostet dich Lebenspunkt, und damit musst du gut haushalten! Finde, den Weg, der die wenigsten Lebenspunkte kostet!\n",
    "\n",
    "<center>\n",
    "<img src=\"../../../images/de/schatzkarte/treasure_map_locations.png\" height=800>\n",
    "</center>"
   ]
  },
  {
   "cell_type": "markdown",
   "metadata": {},
   "source": []
  }
 ],
 "metadata": {
  "language_info": {
   "name": "python"
  }
 },
 "nbformat": 4,
 "nbformat_minor": 2
}

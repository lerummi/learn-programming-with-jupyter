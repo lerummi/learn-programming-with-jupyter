{
 "cells": [
  {
   "cell_type": "markdown",
   "metadata": {},
   "source": [
    "# Lass den Abenteurer den Schatz automatisch finden\n",
    "\n",
    "Mit den Funktionen haben wir nun gelernt, wie wir an bestimmten Wegpunkten besondere Aktionen durchführen können. In den letzten Lektionen musstest du\n",
    "immer selbst den Weg eingeben, um zum Ziel zu gelangen. Diese Vorgehensweise wollen wir nun mit Hilfe von **Schleifen** und **Bedingungen** automatisieren, sodass du nur einmal klicken musst, um den Abenteurer automatisch bis zum **Schatz** zur bringen. Auf seiner automatischen Reise werden die benötigten Lebenspunkte automatisch aufsummiert.\n",
    "\n",
    "<center>\n",
    "<img src=\"../../../images/de/schatzkarte/treasure_map_locations.png\" height=800>\n",
    "</center>"
   ]
  },
  {
   "cell_type": "markdown",
   "metadata": {},
   "source": [
    "Zunächst lernen wir die Grundlagen von **Schleifen** und **Bedingungen** anhand einfacher Beispiele. Danach wenden wir diese an unserer Schatzkarte an."
   ]
  },
  {
   "cell_type": "markdown",
   "metadata": {},
   "source": [
    "## 1. For-Schleifen\n",
    "\n",
    "Die For-Schleife (\"Für\") ist ein wichtiges Werkzeug um eine Reihe von Elementen zu durchlaufen. Sie **iteriert** jede Runde durch ein Element einer listen-artigen Struktur. Hier ein Beispiel:"
   ]
  },
  {
   "cell_type": "code",
   "execution_count": null,
   "metadata": {},
   "outputs": [],
   "source": [
    "meine_liste = [1, \"ich\", \"du\", 2, \"irgendwas\", 3, []]\n",
    "\n",
    "for element in meine_liste:\n",
    "    print(element)"
   ]
  },
  {
   "cell_type": "markdown",
   "metadata": {},
   "source": [
    "### Aufgabe 1\n",
    "\n",
    "<a id='aufgabe_1'></a>\n",
    "\n",
    "1. Erstelle eine Liste, die deine Lieblingsschulfächer enthält.\n",
    "2. Iteriere über die Listenelemente und printe sie aus"
   ]
  },
  {
   "cell_type": "code",
   "execution_count": null,
   "metadata": {},
   "outputs": [],
   "source": [
    "faecher = \n",
    "\n",
    "# Iteriere über die Liste und printe\n"
   ]
  },
  {
   "cell_type": "markdown",
   "metadata": {},
   "source": [
    "## 2. If-(Else-)Anweisungen\n",
    "\n",
    "Mit der Hilfe der If-(Else-)Anweisung (\"Wenn\"-\"Sonst\") kannst du Bedingungen erstellen, ob Code durchlaufen werden soll."
   ]
  },
  {
   "cell_type": "code",
   "execution_count": null,
   "metadata": {},
   "outputs": [],
   "source": [
    "# Verändere den Wert und schaue, was passiert\n",
    "mein_wert = 1\n",
    "\n",
    "if mein_wert < 2:\n",
    "    print(\"Mein Wert is kleiner als 2.\")\n",
    "\n",
    "if mein_wert >= 2:\n",
    "    print(\"Mein Wert ist größer oder gleich als 2\")"
   ]
  },
  {
   "cell_type": "markdown",
   "metadata": {},
   "source": [
    "Zustätzlich zu if gibt es auch **else**. Damit kannst du obiges Beispiel auch so schreiben:"
   ]
  },
  {
   "cell_type": "code",
   "execution_count": null,
   "metadata": {},
   "outputs": [],
   "source": [
    "# Verändere den Wert und schaue, was passiert\n",
    "mein_wert = 1\n",
    "\n",
    "if mein_wert < 2:\n",
    "    print(\"Mein Wert is kleiner als 2.\")\n",
    "else:\n",
    "    print(\"Mein Wert ist größer oder gleich als 2\")"
   ]
  },
  {
   "cell_type": "markdown",
   "metadata": {},
   "source": [
    "Nun kann man z.B. For und If kombinieren."
   ]
  },
  {
   "cell_type": "code",
   "execution_count": null,
   "metadata": {},
   "outputs": [],
   "source": [
    "meine_liste = [1, 5, 8, 3, 7]\n",
    "for element in meine_liste:\n",
    "    print(\"Wert \", element)\n",
    "    if element < 2:\n",
    "        print(\"Mein Wert is kleiner als 2.\")\n",
    "    else:\n",
    "        print(\"Mein Wert ist größer oder gleich als 2\")"
   ]
  },
  {
   "cell_type": "markdown",
   "metadata": {},
   "source": [
    "Eine Möglichkeit, bei Erreichen einer Bedingung auszusteigen, kann man mit dem Befehl **break** machen."
   ]
  },
  {
   "cell_type": "code",
   "execution_count": null,
   "metadata": {},
   "outputs": [],
   "source": [
    "# Verlasse die for-Schleife beim ersten Erreichen einer Zahl, die größer als 2 ist\n",
    "\n",
    "meine_liste = [1, 5, 8, 3, 7]\n",
    "for element in meine_liste:\n",
    "    print(\"Wert \", element)\n",
    "    if element < 2:\n",
    "        print(\"Mein Wert is kleiner als 2.\")\n",
    "    else:\n",
    "        print(\"Mein Wert ist größer oder gleich als 2\")\n",
    "        break\n",
    "\n",
    "print(\"Die erste Zahl der Liste größer oder gleich 2 ist\", element)"
   ]
  },
  {
   "cell_type": "markdown",
   "metadata": {},
   "source": [
    "### Aufgabe 2\n",
    "\n",
    "<a id='aufgabe_2'></a>\n",
    "\n",
    "1. Verwende die For-Schleife aus [Aufgabe 1](#aufgabe-1)\n",
    "2. Frage deinen Banknachbarn, welches seine Lieblingsfächer sind. Das erste was er oder sie nennt, dass auch in deiner Liste auftauchst, schreibst du der Variablen **lieblingsfach_des_nachbarn** zu\n",
    "3. Beim Iterieren soll nun 'Wir haben ein match!' geprintet werden, wenn dieses Lieblingsfach auftritt."
   ]
  },
  {
   "cell_type": "code",
   "execution_count": null,
   "metadata": {},
   "outputs": [],
   "source": [
    "# Hinweis: Ein Vergleich von Zeichenketten wird mit == erfüllt (Zwei Ist-Gleichs!)\n",
    "z1 = \"abc\"\n",
    "z2 = \"abc\"\n",
    "z3 = \"bcd\"\n",
    "\n",
    "print(\"z1 gleich z2? ->\", z1 == z2)\n",
    "print(\"z1 gleich z3? ->\", z1 == z3)"
   ]
  },
  {
   "cell_type": "code",
   "execution_count": null,
   "metadata": {},
   "outputs": [],
   "source": [
    "faecher = \n",
    "lieblingsfach_des_nachbarn = \n",
    "\n",
    "nachricht = \"Wir haben ein match!\"\n",
    "\n",
    "# Iteriere über die Liste und printe"
   ]
  },
  {
   "cell_type": "markdown",
   "metadata": {},
   "source": [
    "## 3. While-Schleife\n",
    "\n",
    "Die While-Schleife (\"Solange\") wird solange wiederholt, bis eine bestimmte Bedingung erfüllt ist."
   ]
  },
  {
   "cell_type": "code",
   "execution_count": null,
   "metadata": {},
   "outputs": [],
   "source": [
    "# Diese Funktion gibt dir bei jedem Aufruf eine zufüllige Zahl zwischen 1 und 6 aus\n",
    "from schleifen_bedingungen import einmal_wuerfeln\n",
    "meine_zahl = einmal_wuerfeln()\n",
    "meine_zahl"
   ]
  },
  {
   "cell_type": "code",
   "execution_count": null,
   "metadata": {},
   "outputs": [],
   "source": [
    "meine_wunschzahl = 6\n",
    "meine_zahl = 0  # Noch nicht gewürfelt\n",
    "\n",
    "while meine_wunschzahl != meine_zahl:\n",
    "    print(\"Meine gewürfelte Zahl ist:\", meine_zahl)\n",
    "    meine_zahl = einmal_wuerfeln()\n",
    "\n",
    "print(\"Geschafft! Meine gewürfelte Zahl ist:\", meine_zahl)"
   ]
  },
  {
   "cell_type": "markdown",
   "metadata": {},
   "source": [
    "## Aufgabe 3\n",
    "\n",
    "1. Kopiere den Code vom obigen While-Beispiel in die Zelle hier darunter\n",
    "2. Verändere den Code so, dass solange gewüfelt wird, bis du zweimal hintereinander deine Wunschzahl geworfen wurde."
   ]
  },
  {
   "cell_type": "code",
   "execution_count": 11,
   "metadata": {},
   "outputs": [],
   "source": [
    "meine_wunschzahl = 6\n",
    "meine_zahl_vorher = 0  # Noch nicht gewürfelt\n",
    "meine_zahl = 0  # Noch nicht gewürfelt\n",
    "\n",
    "# Kopiere die While-Schleife hier herunter und passe sie an"
   ]
  },
  {
   "cell_type": "markdown",
   "metadata": {},
   "source": [
    "## Automatische Wegfindung\n",
    "\n",
    "Wieder wollen wir die Karte etwas weniger komplex machen, um die anstehende Aufgabe zu vereinfachen. Daher beschränken wir uns in unseren Betrachtungen auf folgende Karte:"
   ]
  },
  {
   "cell_type": "code",
   "execution_count": null,
   "metadata": {},
   "outputs": [],
   "source": [
    "from funktionen import *\n",
    "from funktionen import G, zeichne\n",
    "from schleifen_bedingungen import verbindungen, nachbarpunkte, kosten, einmal_wuerfeln, erstelle_tabelle_ohne_duplikate\n",
    "\n",
    "zeichne(G)"
   ]
  },
  {
   "cell_type": "markdown",
   "metadata": {},
   "source": [
    "Jede Verbindung zwischen zwei Wegabschnitten ist in folgender Tabelle gespeichert."
   ]
  },
  {
   "cell_type": "code",
   "execution_count": null,
   "metadata": {},
   "outputs": [],
   "source": [
    "verbindungen"
   ]
  },
  {
   "cell_type": "markdown",
   "metadata": {},
   "source": [
    "Zusätzlich dazu, wurden oben Funktionen importiert mit denen man sehr einfach \n",
    "- Nachbarpunkt zu bestimmten Punkten\n",
    "- die Kosten von Punkt A zu Punkt B\n",
    "\n",
    "berechnen kann. Diese findest du hier."
   ]
  },
  {
   "cell_type": "code",
   "execution_count": null,
   "metadata": {},
   "outputs": [],
   "source": [
    "# Die Reihenfolge der ausgegebenen Nachbarpunkte ist jedes Mal anders. Das ist wichtig, damit wir im Folgenden\n",
    "# einfachen Zugang zu unterschiedlichen Nachbarn bekommen\n",
    "nachbarpunkte(\"y\")"
   ]
  },
  {
   "cell_type": "code",
   "execution_count": null,
   "metadata": {},
   "outputs": [],
   "source": [
    "kosten(\"c\", \"Zwerg\")"
   ]
  },
  {
   "cell_type": "markdown",
   "metadata": {},
   "source": [
    "### Aufgabe 4\n",
    "\n",
    "Wir wollen nun das erlernte Wissen nutzen, um einen Algorithmus zu schreiben, der automatisch einen (zufälligen) Weg vom Start zum Schatz erstellt und dabei die Wegkosten aufsummiert.\n",
    "Es gibt dabei folgende Variablen:"
   ]
  },
  {
   "cell_type": "code",
   "execution_count": 16,
   "metadata": {},
   "outputs": [],
   "source": [
    "mein_ort = \"Start\"\n",
    "mein_ziel = \"Schatz\"\n",
    "\n",
    "# Folgende Liste speichert alle Punkte, die schon passiert worden sind\n",
    "mein_weg = [mein_ort]\n",
    "\n",
    "# Diese Zahl entspricht den Gesamtkosten an Lebenspunkten auf unserem bisherigen Weg\n",
    "meine_kosten = 0"
   ]
  },
  {
   "cell_type": "markdown",
   "metadata": {},
   "source": [
    "Der Algorithmus soll folgende Dinge tun:\n",
    "\n",
    "- Laufe solange (**while**) weiter bis dein Ort dem Ziel entspricht.\n",
    "- An jedem Wegpunkt wird zu einem der Nachbarpunkte (**for**) gegangen werden\n",
    "- Wenn der Nachbarpunkt schon auf dem bisherigen Weg liegt, soll er, wenn möglich gemieden werden (**if**), wenn es nicht anders möglich ist, darf er aber auch ausnahmsweise betreten werden\n",
    "\n",
    "Hier noch ein Paar Hinweise:"
   ]
  },
  {
   "cell_type": "code",
   "execution_count": null,
   "metadata": {},
   "outputs": [],
   "source": [
    "# Hinweis 1: Um zu testen, ob zwei Zeichenketten ungleich sind, können wir folgendes tun\n",
    "z1 = \"abc\"\n",
    "z2 = \"xyz\"\n",
    "z1 != z2"
   ]
  },
  {
   "cell_type": "code",
   "execution_count": null,
   "metadata": {},
   "outputs": [],
   "source": [
    "# Hinweis 2: Um zu testen, ob ein Element nicht in einer List ist, können wir folgendes tun\n",
    "meine_liste = [1, 3, 5]\n",
    "meine_zahl = 2\n",
    "\n",
    "meine_zahl not in meine_liste"
   ]
  },
  {
   "cell_type": "code",
   "execution_count": null,
   "metadata": {},
   "outputs": [],
   "source": [
    "# Hinweis 3: Um Schleifen vorzeitig zu verlassen, können wir **break** nutzen\n",
    "meine_liste = [1, 3, 5]\n",
    "meine_zahl = 2\n",
    "\n",
    "for element in meine_liste:\n",
    "    print(element)\n",
    "    if element > meine_zahl:\n",
    "        break\n",
    "\n",
    "print(\"Erstes größeres Element:\", element) "
   ]
  },
  {
   "cell_type": "code",
   "execution_count": null,
   "metadata": {},
   "outputs": [],
   "source": [
    "mein_ort = \"Start\"\n",
    "mein_ziel = \"Schatz\"\n",
    "mein_weg = [mein_ort]\n",
    "meine_kosten = 0\n",
    "\n",
    "# Bedingung: Ort ist ungleich Ziel (Hinweis 1) ...\n",
    "while \n",
    "    print(\"Mein Ort:\", mein_ort)\n",
    "    print(\"Bisherige Kosten:\", meine_kosten)\n",
    "\n",
    "    nachbarn = nachbarpunkte(mein_ort)\n",
    "    # Iteration über Nachbarpunkte\n",
    "    for \n",
    "        if # Bedingung: Nachbar is nicht auf dem Weg (Hinweis 2)\n",
    "            # Gehe zum nächsten Ort, speichere den neuen Ort, die Kosten, den Weg\n",
    "            # Breche ab (Hinweis 3)\n",
    "        else: # Nachbar ist schon auf dem Weg, speichere ihn ab\n",
    "            nachbar_auf_dem_weg = \n",
    "\n",
    "    # Bedingung: Bin ich auf einen Nachbar gewechselt?\n",
    "    if \n",
    "        # Gehe zum Nachbarn der schon auf dem Weg liegt, aber es gibt ja keine andere Möglichkeit\n",
    "\n",
    "\n",
    "# Geschafft!\n",
    "print(\"Du bist am Ziel!\")\n",
    "print(\"Der Weg:\", mein_weg)\n",
    "print(\"Gesamtkosten\", meine_kosten)\n",
    "\n",
    "            "
   ]
  },
  {
   "cell_type": "markdown",
   "metadata": {},
   "source": [
    "### Aufgabe 5\n",
    "\n",
    "Wir wollen ja nun, den besten Weg automatisch finden. Dazu schreiben wir obigen Code in eine Funktion:"
   ]
  },
  {
   "cell_type": "code",
   "execution_count": null,
   "metadata": {},
   "outputs": [],
   "source": [
    "def probiere_weg_aus():\n",
    "\n",
    "    # Dein Code hier\n",
    "\n",
    "    return mein_weg, meine_kosten"
   ]
  },
  {
   "cell_type": "markdown",
   "metadata": {},
   "source": [
    "Die Funktion probieren nun sehr oft aus und speichern das Ergebnis in einer Tabelle."
   ]
  },
  {
   "cell_type": "code",
   "execution_count": null,
   "metadata": {},
   "outputs": [],
   "source": [
    "anzahl_versuche = 50\n",
    "versuch_nummer = 1\n",
    "ergebnisse = []\n",
    "while versuch_nummer != anzahl_versuche:\n",
    "    ergebnis = probiere_weg_aus()\n",
    "    ergebnisse.append(ergebnis)\n",
    "    versuch_nummer = versuch_nummer + 1\n",
    "\n",
    "ergebnis_tabelle = erstelle_tabelle_ohne_duplikate(ergebnisse)"
   ]
  },
  {
   "cell_type": "markdown",
   "metadata": {},
   "source": [
    "Hier siehst du die Ergebnisse als Tabelle!"
   ]
  },
  {
   "cell_type": "code",
   "execution_count": null,
   "metadata": {},
   "outputs": [],
   "source": [
    "ergebnis_tabelle"
   ]
  }
 ],
 "metadata": {
  "kernelspec": {
   "display_name": ".venv",
   "language": "python",
   "name": "python3"
  },
  "language_info": {
   "codemirror_mode": {
    "name": "ipython",
    "version": 3
   },
   "file_extension": ".py",
   "mimetype": "text/x-python",
   "name": "python",
   "nbconvert_exporter": "python",
   "pygments_lexer": "ipython3",
   "version": "3.12.5"
  }
 },
 "nbformat": 4,
 "nbformat_minor": 2
}

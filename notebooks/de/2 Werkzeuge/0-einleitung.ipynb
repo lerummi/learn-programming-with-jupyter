{
 "cells": [
  {
   "cell_type": "markdown",
   "metadata": {},
   "source": [
    "# Der Schatz von Drachenfels\n",
    "\n",
    "Hallo Abenteurer! Dein Minijob als Aushilfe im Fast-Food-Restaurant hat dich also gelangweilt? Na gut, kommen wir nun zu einer Aufgabe, die dich stärker herausfordert: Berge den **Schatz von Drachenfels**.\n",
    "\n",
    "<img src=\"../../../images/de/schatzkarte/dragonvalley.png\">"
   ]
  },
  {
   "cell_type": "markdown",
   "metadata": {},
   "source": []
  },
  {
   "cell_type": "markdown",
   "metadata": {},
   "source": []
  }
 ],
 "metadata": {
  "language_info": {
   "name": "python"
  }
 },
 "nbformat": 4,
 "nbformat_minor": 2
}

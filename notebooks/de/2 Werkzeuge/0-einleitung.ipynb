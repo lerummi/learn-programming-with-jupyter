{
 "cells": [
  {
   "cell_type": "markdown",
   "metadata": {},
   "source": [
    "# Der Schatz von Drachenfels\n",
    "\n",
    "Hallo Abenteurer! Dein Minijob als Aushilfe im Fast-Food-Restaurant hat dich also gelangweilt? Na gut, kommen wir nun zu einer Aufgabe, die dich stärker herausfordert: Berge den **Schatz von Drachenfels**.\n",
    "\n",
    "<img src=\"../../../images/de/schatzkarte/dragonvalley.png\">"
   ]
  },
  {
   "cell_type": "markdown",
   "metadata": {},
   "source": [
    "Abenteuer, willkomen! Deine nächste Aufgabe wird dir neue Fähigkeit abverlangen. Fähigkeiten, die dich fortan immer weiter wachsen lassen und letztlich zu einem oder einer\n",
    "Profi-ProgrammiererIn werden lassen. Auf der Suche nach dem **Schatz von Drachenfels** erlenst die folgendes:\n",
    "\n",
    "1. [Lerne Variablen kennen](1-variablen.ipynb) und finde den Weg zum Schatz, der die wenigsten Lebenspunkte kostet\n",
    "2. [Arbeite mit Listen](2-listen.ipynb) und lerne eine weitere Methode kennen, den Weg zu beschreiben\n",
    "3. [Arbeite mit Funktionen](3-funktionen.ipynb) und machen die Boni an verschiedenen Wegpunkten zunutze, um schneller zum Ziel zu kommen\n",
    "4. [Arbeiten mit Schleifen und Bedingungen](4-schleifen-und-bedingungen.ipynb) und durchlaufe mehrere Runden um den besten Weg zu finden"
   ]
  },
  {
   "cell_type": "markdown",
   "metadata": {},
   "source": []
  }
 ],
 "metadata": {
  "language_info": {
   "name": "python"
  }
 },
 "nbformat": 4,
 "nbformat_minor": 2
}

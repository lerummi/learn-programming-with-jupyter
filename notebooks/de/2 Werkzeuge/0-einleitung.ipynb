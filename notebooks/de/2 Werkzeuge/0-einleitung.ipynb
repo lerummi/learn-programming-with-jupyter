{
 "cells": [
  {
   "cell_type": "markdown",
   "metadata": {},
   "source": [
    "# Der Schatz von Drachenfels\n",
    "\n",
    "Hallo Abenteurer! Dein Minijob als Aushilfe im Fast-Food-Restaurant hat dich also gelangweilt? Na gut, kommen wir nun zu einer Aufgabe, die dich stärker herausfordert: Berge den **Schatz von Drachenfels**.\n",
    "\n",
    "<img src=\"../../../images/de/schatzkarte/dragonvalley.png\">"
   ]
  },
  {
   "cell_type": "markdown",
   "metadata": {},
   "source": [
    "Aller Anfang ist schwer! Du musst dich hocharbeiten um alle notwendigen Fähigkeiten zu erlernen. Aber keine Angst, die **Burger-und-Buletten-Bude** ist bekannt dafür, den Neueinsteigern eine exzellente Einarbeitung zu liefern. Du wirst hier die folgenden Fähigkeiten erlernen:\n",
    "\n",
    "1. [Lerne Variablen kennen](1-variablen.ipynb) und finde den Weg zum Schatz, der die wenigsten Lebenspunkte kostet\n",
    "2. [Arbeite mit Funktionen](2-funktionen.ipynb) und machen die Boni an verschiedenen Wegpunkten zunutze, um schneller zum Ziel zu kommen\n",
    "3. [Arbeiten mit Schleifen](3-schleifen.ipynb) und durchlaufe mehrere Runden um den besten Weg zu finden"
   ]
  },
  {
   "cell_type": "markdown",
   "metadata": {},
   "source": []
  }
 ],
 "metadata": {
  "language_info": {
   "name": "python"
  }
 },
 "nbformat": 4,
 "nbformat_minor": 2
}

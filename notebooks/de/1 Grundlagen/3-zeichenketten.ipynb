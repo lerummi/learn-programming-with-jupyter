{
 "cells": [
  {
   "cell_type": "markdown",
   "metadata": {},
   "source": [
    "# Dein Job: Erstellung neuer Produkte\n",
    "\n",
    "<img src=\"../../../images/de/restaurant/menunamen.png\"> \n",
    "\n",
    "Herzlichen Glückwunsch, und schon wieder wurdest Du befördert! Dein Chef war von deiner Kreativität begeistert und kann sich sehr gut vorstellen, dass du Namen für neue Produkte der **Burger-und-Buletten-Bude** kreieren kannst. "
   ]
  },
  {
   "cell_type": "code",
   "execution_count": null,
   "metadata": {},
   "outputs": [],
   "source": [
    "from zeichenketten import Mahlzeit"
   ]
  },
  {
   "cell_type": "code",
   "execution_count": null,
   "metadata": {},
   "outputs": [],
   "source": [
    "Mahlzeit.generiere(3)"
   ]
  },
  {
   "cell_type": "code",
   "execution_count": null,
   "metadata": {},
   "outputs": [],
   "source": []
  }
 ],
 "metadata": {
  "kernelspec": {
   "display_name": ".venv",
   "language": "python",
   "name": "python3"
  },
  "language_info": {
   "codemirror_mode": {
    "name": "ipython",
    "version": 3
   },
   "file_extension": ".py",
   "mimetype": "text/x-python",
   "name": "python",
   "nbconvert_exporter": "python",
   "pygments_lexer": "ipython3",
   "version": "3.12.5"
  }
 },
 "nbformat": 4,
 "nbformat_minor": 2
}

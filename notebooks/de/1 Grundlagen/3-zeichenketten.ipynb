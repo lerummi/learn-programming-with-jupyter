{
 "cells": [
  {
   "cell_type": "markdown",
   "metadata": {},
   "source": [
    "# Dein Job: Erstelle Werbeslagons\n",
    "\n",
    "<img src=\"../../../images/de/restaurant/menunamen.png\"> \n",
    "\n",
    "Herzlichen Glückwunsch, und schon wieder wurdest Du befördert! Dein Chef war von deiner Kreativität begeistert und kann sich sehr gut vorstellen, dass du Werbeslogans für die Produkte der **Burger-und-Buletten-Bude** kreieren kannst. \n",
    "\n",
    "In dieser Lektion geht es darum, wie man **Text** in einer Programmiersprache verarbeiten kann."
   ]
  },
  {
   "cell_type": "code",
   "execution_count": 1,
   "metadata": {},
   "outputs": [],
   "source": [
    "from zeichenketten import Produkt"
   ]
  },
  {
   "cell_type": "markdown",
   "metadata": {},
   "source": [
    "Mit folgendem Befehl kannst du dir ein Produkt generieren lassen. Der **Parameter** `anzahl` bestimmt, aus wie vielen Wortteilen (Adjektive + Substantiv) die Mahlzeit bestehen soll."
   ]
  },
  {
   "cell_type": "code",
   "execution_count": null,
   "metadata": {},
   "outputs": [],
   "source": [
    "Produkt.generiere(anzahl=3)"
   ]
  },
  {
   "cell_type": "markdown",
   "metadata": {},
   "source": [
    "Das Ergebnis ist eine **Zeichenkette** und wird auch **String** genannt.\n",
    "Ein String wird durch die Symbole **'** (einfaches Hochkomma) oder **\"** (doppeltes Hochkomma) umschlossen. Es ist egal, ob du das eine oder andere nimmst. Wichtig ist, dass am Anfang und am Ende das gleiche Zeichen steht. \n",
    "\n",
    "Probiere es hier aus. Schreibe zum Beispiel deinen Namen hier hinein:"
   ]
  },
  {
   "cell_type": "code",
   "execution_count": null,
   "metadata": {},
   "outputs": [],
   "source": [
    "# Dein Name in \" \":\n",
    "\" \""
   ]
  },
  {
   "cell_type": "code",
   "execution_count": null,
   "metadata": {},
   "outputs": [],
   "source": [
    "# Dein Name in ' ':\n",
    "' '"
   ]
  },
  {
   "cell_type": "markdown",
   "metadata": {},
   "source": [
    "Du kannst mehrere Strings auch aneinander hängen, in dem du zwischen zwei oder mehrere Strings **+** Zeichen machst. Wie hier:"
   ]
  },
  {
   "cell_type": "code",
   "execution_count": null,
   "metadata": {},
   "outputs": [],
   "source": [
    "\"Mir \" + \"schmeckt \" + \"alles \" + \"gut\""
   ]
  },
  {
   "cell_type": "markdown",
   "metadata": {},
   "source": [
    "oder mit **print** ..."
   ]
  },
  {
   "cell_type": "code",
   "execution_count": null,
   "metadata": {},
   "outputs": [],
   "source": [
    "print(\"Mir \" + \"schmeckt \" + \"alles \" + \"gut\")"
   ]
  },
  {
   "cell_type": "markdown",
   "metadata": {},
   "source": [
    "Wenn man in eine neue Zeile wechseln will, kann man \"\\n\" hinzufügen, so wie hier:"
   ]
  },
  {
   "cell_type": "code",
   "execution_count": null,
   "metadata": {},
   "outputs": [],
   "source": [
    "print(\"Mir \" + \"schmeckt \" + \"\\n\" + \"alles \" + \"gut\")"
   ]
  },
  {
   "cell_type": "markdown",
   "metadata": {},
   "source": [
    "# Deine Aufgabe\n",
    "\n",
    "Zuletzt hat das Image der Burger-Buletten-Bude gelitten und wir brauchen gute Werbe-Slogans, die uns wieder nach vorne bringen. Wir geben dir ein Paar Bausteine, die du clever zusammenfügen kannst, um so einen Slogan zu generieren.\n",
    "\n",
    "Folgende Objekte stehen dir zur Verfügung:"
   ]
  },
  {
   "cell_type": "code",
   "execution_count": 8,
   "metadata": {},
   "outputs": [],
   "source": [
    "from zeichenketten import (\n",
    "    Person,\n",
    "    Verb,\n",
    "    Ort,\n",
    "    Begruendung\n",
    ")"
   ]
  },
  {
   "cell_type": "markdown",
   "metadata": {},
   "source": [
    "Wenn du `Objekt.generiere()` eingibst wird ein String des entsprechenden Types erzeugt. Zum Beispiel:"
   ]
  },
  {
   "cell_type": "code",
   "execution_count": null,
   "metadata": {},
   "outputs": [],
   "source": [
    "print(\"Ort: \" + Ort.generiere())\n",
    "print(\"Person: \" + Person.generiere())\n",
    "print(\"Verb: \" + Verb.generiere())\n",
    "print(\"Begründung: \" + Begruendung.generiere())"
   ]
  },
  {
   "cell_type": "markdown",
   "metadata": {},
   "source": [
    "Durch Kombinationen kann man Sätze erstellen, wie etwa:"
   ]
  },
  {
   "cell_type": "code",
   "execution_count": null,
   "metadata": {},
   "outputs": [],
   "source": [
    "Person.generiere() + \" \" + Verb.generiere() + \" \" + Produkt.generiere(anzahl=1)"
   ]
  },
  {
   "cell_type": "markdown",
   "metadata": {},
   "source": [
    "Nutze, die obigen Objekte, um ein Paar knackige Werbe-Slogans für unsere Produkte zu generieren. Denke daran, wie man Strings zusammensetzt.\n",
    "Sei kreativ! Los gehts! Wer findet den besten Slogan?"
   ]
  },
  {
   "cell_type": "code",
   "execution_count": null,
   "metadata": {},
   "outputs": [],
   "source": []
  },
  {
   "cell_type": "markdown",
   "metadata": {},
   "source": []
  },
  {
   "cell_type": "markdown",
   "metadata": {},
   "source": [
    "Sehr schön! Es gibt noch andere Möglichkeiten Strings zusammenzusetzen. Eine, die sehr häufig genutzt wird, sieht erstmal etwas komisch aus,\n",
    "ist aber leicht zu verstehen:"
   ]
  },
  {
   "cell_type": "code",
   "execution_count": null,
   "metadata": {},
   "outputs": [],
   "source": [
    "f\"{Person.generiere()} {Verb.generiere()} {Produkt.generiere(anzahl=1)}\""
   ]
  },
  {
   "cell_type": "markdown",
   "metadata": {},
   "source": [
    "Kannst du auch in dieser Form einen passenden Slogan erstellen?"
   ]
  },
  {
   "cell_type": "code",
   "execution_count": null,
   "metadata": {},
   "outputs": [],
   "source": []
  }
 ],
 "metadata": {
  "kernelspec": {
   "display_name": ".venv",
   "language": "python",
   "name": "python3"
  },
  "language_info": {
   "codemirror_mode": {
    "name": "ipython",
    "version": 3
   },
   "file_extension": ".py",
   "mimetype": "text/x-python",
   "name": "python",
   "nbconvert_exporter": "python",
   "pygments_lexer": "ipython3",
   "version": "3.12.5"
  }
 },
 "nbformat": 4,
 "nbformat_minor": 2
}

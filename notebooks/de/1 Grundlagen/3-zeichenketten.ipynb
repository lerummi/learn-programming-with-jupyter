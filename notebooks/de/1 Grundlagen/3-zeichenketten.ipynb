{
 "cells": [
  {
   "cell_type": "markdown",
   "metadata": {},
   "source": [
    "# Dein Job: Erstellung neuer Menunamen\n",
    "\n",
    "<img src=\"../../../images/de/restaurant/menunamen.png\"> \n",
    "\n",
    "Herzlichen Glückwunsch, und schon wieder wurdest Du befördert! Dein Chef war von deiner Kreativität begeistert und kann sich sehr gut vorstellen, dass du neue Namen für die Menüs der **Burger-und-Buletten-Bude** kreieren kannst. "
   ]
  },
  {
   "cell_type": "code",
   "execution_count": null,
   "metadata": {},
   "outputs": [],
   "source": []
  }
 ],
 "metadata": {
  "language_info": {
   "name": "python"
  }
 },
 "nbformat": 4,
 "nbformat_minor": 2
}

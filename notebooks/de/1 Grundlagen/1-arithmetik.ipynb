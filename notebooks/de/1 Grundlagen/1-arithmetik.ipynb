{
 "cells": [
  {
   "cell_type": "code",
   "execution_count": null,
   "metadata": {},
   "outputs": [
    {
     "ename": "",
     "evalue": "",
     "output_type": "error",
     "traceback": [
      "\u001b[1;31mDas Ausführen von Zellen mit \"Python 3.12.4\" erfordert das Paket ipykernel.\n",
      "\u001b[1;31mFühren Sie den folgenden Befehl aus, um „ipykernel“ in der Python-Umgebung zu installieren. \n",
      "\u001b[1;31mBefehl: '/opt/homebrew/bin/python3 -m pip install ipykernel -U --user --force-reinstall'"
     ]
    }
   ],
   "source": []
  },
  {
   "cell_type": "markdown",
   "metadata": {},
   "source": [
    "# Die Burger-und-Buletten-Bude\n",
    "\n",
    "Herzlichen Glückwunsch! Du wurdest gerade bei der Burger-und-Buletten-Bude eingestellt und kannst dein Taschengeld aufbessern!\n",
    "\n",
    "<img src=\"../../../images/de/restaurant/burgerbude.png\">"
   ]
  },
  {
   "cell_type": "markdown",
   "metadata": {},
   "source": [
    "## Dein Job: Telefonische Reservierungen\n",
    "\n",
    "Dein erster Job ist es, telefonische Reservierungen von Tischen aufzunehmen oder abzulehnen, je nach Verfügbarkeit der Tische.\n",
    "\n",
    "Du musst berechnen, ob noch Tische verfügbar sind, wenn du die Anfragen der Anrufer entgegennimmst.\n",
    "\n",
    "Nutze dazu die Eingabefelder unten. Gebe eine Rechenaufgabe ein und führe die Zelle aus wie hier [beschrieben](../../../docs/de/0%20Einführung%20zu%20Jupyter%20Notebooks.ipynb), um ein Ergebnis zu erhalten. Probiere diese aus:"
   ]
  },
  {
   "cell_type": "code",
   "execution_count": null,
   "metadata": {},
   "outputs": [
    {
     "ename": "",
     "evalue": "",
     "output_type": "error",
     "traceback": [
      "\u001b[1;31mDas Ausführen von Zellen mit \"Python 3.12.4\" erfordert das Paket ipykernel.\n",
      "\u001b[1;31mFühren Sie den folgenden Befehl aus, um „ipykernel“ in der Python-Umgebung zu installieren. \n",
      "\u001b[1;31mBefehl: '/opt/homebrew/bin/python3 -m pip install ipykernel -U --user --force-reinstall'"
     ]
    }
   ],
   "source": [
    "3 * 5 + 4 * 2"
   ]
  },
  {
   "cell_type": "markdown",
   "metadata": {},
   "source": []
  }
 ],
 "metadata": {
  "kernelspec": {
   "display_name": "Python 3",
   "language": "python",
   "name": "python3"
  },
  "language_info": {
   "name": "python",
   "version": "3.12.4"
  }
 },
 "nbformat": 4,
 "nbformat_minor": 2
}

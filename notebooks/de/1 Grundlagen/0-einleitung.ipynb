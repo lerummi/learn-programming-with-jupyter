{
 "cells": [
  {
   "cell_type": "markdown",
   "metadata": {},
   "source": [
    "# Die Burger-und-Buletten-Bude\n",
    "\n",
    "Herzlichen Glückwunsch! Du wurdest gerade bei der Burger-und-Buletten-Bude eingestellt und kannst dein Taschengeld aufbessern!\n",
    "\n",
    "<img src=\"../../../images/de/restaurant/burgerbude.png\">"
   ]
  },
  {
   "cell_type": "markdown",
   "metadata": {},
   "source": [
    "Aller Anfang ist schwer! Du musst dich hocharbeiten um alle notwendigen Fähigkeiten zu erlernen. Aber keine Angst, die **Burger-und-Buletten-Bude** ist bekannt dafür, den Neueinsteigern eine exzellente Einarbeitung zu liefern. Du wirst hier die folgenden Fähigkeiten erlernen:\n",
    "\n",
    "1. [Rechnen mit ganzen Zahlen](1-ganze-zahlen-rechnen.ipynb) indem du Tisch-Reservierungen vornimmst\n",
    "2. [Rechnen mit krummen Zahlen](2-fliesskommazahlen-rechnen.ipynb) indem du Tische abrechnest und Beträge zusammenrechnest\n",
    "3. [Arbeit mit Wörtern und Texten](3-zeichenketten.ipynb) indem du neue Namen für Menus erstellts"
   ]
  },
  {
   "cell_type": "markdown",
   "metadata": {},
   "source": []
  }
 ],
 "metadata": {
  "language_info": {
   "name": "python"
  }
 },
 "nbformat": 4,
 "nbformat_minor": 2
}

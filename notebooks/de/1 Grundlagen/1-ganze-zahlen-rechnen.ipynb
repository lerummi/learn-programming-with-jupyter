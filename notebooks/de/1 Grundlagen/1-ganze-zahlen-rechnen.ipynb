{
 "cells": [
  {
   "cell_type": "markdown",
   "metadata": {},
   "source": [
    "## Dein Job: Telefonische Reservierungen\n",
    "\n",
    "<img src=\"../../../images/de/restaurant/reservierungen.png\">\n",
    "\n",
    "Dein erster Job ist es, telefonische Reservierungen von Tischen aufzunehmen oder abzulehnen, je nach Verfügbarkeit der Tische.\n",
    "\n",
    "Du musst berechnen, ob noch Tische verfügbar sind, wenn du die Anfragen der Anrufer entgegennimmst.\n",
    "\n",
    "Nutze dazu die Eingabefelder unten. Gebe eine Rechenaufgabe ein und führe die Zelle aus wie hier [beschrieben](../../../docs/de/0%20Einführung%20zu%20Jupyter%20Notebooks.ipynb), um ein Ergebnis zu erhalten. Probiere diese aus:"
   ]
  },
  {
   "cell_type": "code",
   "execution_count": null,
   "metadata": {},
   "outputs": [],
   "source": [
    "3 * 5 + 4 * 2"
   ]
  },
  {
   "cell_type": "markdown",
   "metadata": {},
   "source": [
    "Mit \"print\" kann man mehrere Ergebnisse ausgeben, auch in einer Zeile mit Komma getrennt:"
   ]
  },
  {
   "cell_type": "code",
   "execution_count": null,
   "metadata": {},
   "outputs": [],
   "source": [
    "print(25 + 1)\n",
    "print(3 + 4 * 2)\n",
    "print(15 - 2 * 4, 3 * 2)"
   ]
  },
  {
   "cell_type": "markdown",
   "metadata": {},
   "source": [
    "Die **Burger-und-Buletten-Bude** ist ein recht kleines Restaurant. Es besitzt nur wenige Tische:\n",
    "\n",
    "- 2 mal 2-Personen-Tische\n",
    "- 2 mal 4-Personen-Tische\n",
    "- 1 mal 6-Personen-Tische\n",
    "\n",
    "Die **Verfügbarkeit** kann man so ausgeben"
   ]
  },
  {
   "cell_type": "code",
   "execution_count": null,
   "metadata": {},
   "outputs": [],
   "source": [
    "print(2, 2, 1)"
   ]
  },
  {
   "cell_type": "markdown",
   "metadata": {},
   "source": [
    "Wie viele Gäste können maximal hier gleichzeitig essen? Stelle die Rechnung hier unten auf (mit oder ohne `print`):"
   ]
  },
  {
   "cell_type": "code",
   "execution_count": null,
   "metadata": {},
   "outputs": [],
   "source": []
  },
  {
   "cell_type": "markdown",
   "metadata": {},
   "source": [
    "## Deine Aufgabe\n",
    "\n",
    "Die **Burger-und-Buletten-Bude** öffnet um 18 Uhr. Es können Reservierungen für \n",
    "\n",
    "- 18 Uhr\n",
    "- 19 Uhr\n",
    "- 20 Uhr\n",
    "\n",
    "gemacht werden, um 21 Uhr wird geschlossen. Rechne damit, dass die Tische nach spätestens 2 Stunden frei werden, also neu reserviert werden können. Benutze die unteren Zellen, um auszurechnen, ob noch genug Tische frei sind."
   ]
  },
  {
   "cell_type": "markdown",
   "metadata": {},
   "source": [
    "### 1. Anruf\n",
    "\n",
    "Von Frau Berger, sie möchte für 4 Leute um 18 Uhr reservieren. Das Restaurant ist anfangs leer, das geht also! Wie viele Tische sind noch frei nach der Reservierung von Frau Berger?"
   ]
  },
  {
   "cell_type": "code",
   "execution_count": null,
   "metadata": {},
   "outputs": [],
   "source": []
  },
  {
   "cell_type": "markdown",
   "metadata": {},
   "source": [
    "Die 2- und 6-Personen-Tische sind ja noch alle verfügbar so können wir **Verfügbarkeit** merken, indem wir die `...` mit dem erechneten Ergebnis erstzen"
   ]
  },
  {
   "cell_type": "code",
   "execution_count": null,
   "metadata": {},
   "outputs": [],
   "source": [
    "print(2, ..., 1)"
   ]
  },
  {
   "cell_type": "markdown",
   "metadata": {},
   "source": [
    "### 2. Mehrere Anrufe\n",
    "\n",
    "Herr Meier möchte für seinen Hochzeitstag einen 2-Personen Tisch für 18 Uhr.\n",
    "\n",
    "Frau Müller möchten einen 6-Personen Tisch für 18 Uhr für Ihre Geburtstagsparty. \n",
    "\n",
    "Die Tische scheinen auszureichen! Wie viele Tische sind denn 18 Uhr und 19 Uhr nach den Reservierungen noch verfügbar?\n",
    "\n",
    "**18 Uhr** und **19 Uhr**"
   ]
  },
  {
   "cell_type": "code",
   "execution_count": null,
   "metadata": {},
   "outputs": [],
   "source": [
    "print(..., ..., ...)"
   ]
  },
  {
   "cell_type": "markdown",
   "metadata": {},
   "source": [
    "Schreibe die verfügbaren Tische für 18, 19 20 Uhr untereinander. Merke: Rechne damit, dass die Tische nach 2 Stunden wieder frei sind!\n",
    "\n",
    "**20 Uhr**"
   ]
  },
  {
   "cell_type": "code",
   "execution_count": null,
   "metadata": {},
   "outputs": [],
   "source": [
    "print(..., 1, ...)\n",
    "print(..., 1, ...)\n",
    "print(..., ..., ...)"
   ]
  },
  {
   "cell_type": "markdown",
   "metadata": {},
   "source": [
    "### 3. Die Leitung läuft heiß\n",
    "\n",
    "Nun kommen hintereinandere mehrere Anrufe herein und du musst entscheiden ob du zu- oder absagst"
   ]
  },
  {
   "cell_type": "markdown",
   "metadata": {},
   "source": [
    "Herr Fischer möchte einen 2-Personentisch um 18 Uhr. Geht das?"
   ]
  },
  {
   "cell_type": "markdown",
   "metadata": {},
   "source": [
    "**Antwort**: "
   ]
  },
  {
   "cell_type": "markdown",
   "metadata": {},
   "source": [
    "Berechne nun die **Verfügbarkeit**!"
   ]
  },
  {
   "cell_type": "code",
   "execution_count": null,
   "metadata": {},
   "outputs": [],
   "source": []
  },
  {
   "cell_type": "markdown",
   "metadata": {},
   "source": [
    "Frau Geyer möchte einen 6-Personen-Tisch um 19 Uhr? Geht das?"
   ]
  },
  {
   "cell_type": "markdown",
   "metadata": {},
   "source": [
    "**Antwort**:"
   ]
  },
  {
   "cell_type": "markdown",
   "metadata": {},
   "source": [
    "**Verfügbarkeit**?"
   ]
  },
  {
   "cell_type": "code",
   "execution_count": null,
   "metadata": {},
   "outputs": [],
   "source": []
  },
  {
   "cell_type": "markdown",
   "metadata": {},
   "source": [
    "Herr Schneider möchte zwei 2-Personen-Tische um 20 Uhr. Geht das?"
   ]
  },
  {
   "cell_type": "markdown",
   "metadata": {},
   "source": [
    "**Antwort**:"
   ]
  },
  {
   "cell_type": "markdown",
   "metadata": {},
   "source": [
    "**Verfügbarkeit**?"
   ]
  },
  {
   "cell_type": "code",
   "execution_count": null,
   "metadata": {},
   "outputs": [],
   "source": []
  },
  {
   "cell_type": "markdown",
   "metadata": {},
   "source": [
    "Frau Gruber möchte einen Tisch für 5 Personen um 20 Uhr. Geht das?"
   ]
  },
  {
   "cell_type": "markdown",
   "metadata": {},
   "source": [
    "**Antwort**:"
   ]
  },
  {
   "cell_type": "markdown",
   "metadata": {},
   "source": [
    "**Verfügbarkeit**?"
   ]
  },
  {
   "cell_type": "code",
   "execution_count": null,
   "metadata": {},
   "outputs": [],
   "source": []
  },
  {
   "cell_type": "markdown",
   "metadata": {},
   "source": [
    "Herr Hansel möchte einen Tisch für 4 Personen um 19 Uhr. Geht das?"
   ]
  },
  {
   "cell_type": "markdown",
   "metadata": {},
   "source": [
    "**Antwort**:"
   ]
  },
  {
   "cell_type": "markdown",
   "metadata": {},
   "source": [
    "**Verfügbarkeit**?"
   ]
  },
  {
   "cell_type": "code",
   "execution_count": null,
   "metadata": {},
   "outputs": [],
   "source": []
  },
  {
   "cell_type": "markdown",
   "metadata": {},
   "source": [
    "### 4. Bonusaufgabe\n",
    "\n",
    "Sehr schön, du hast deinen ersten Job sehr gut gemeistert. Berechne zum Abschluß noch wie viele Personen, wir noch maximal aufnehmen könnten. Berechne die Summe hier unten:"
   ]
  },
  {
   "cell_type": "code",
   "execution_count": null,
   "metadata": {},
   "outputs": [],
   "source": []
  }
 ],
 "metadata": {
  "kernelspec": {
   "display_name": "Python 3",
   "language": "python",
   "name": "python3"
  },
  "language_info": {
   "codemirror_mode": {
    "name": "ipython",
    "version": 3
   },
   "file_extension": ".py",
   "mimetype": "text/x-python",
   "name": "python",
   "nbconvert_exporter": "python",
   "pygments_lexer": "ipython3",
   "version": "3.12.4"
  }
 },
 "nbformat": 4,
 "nbformat_minor": 2
}

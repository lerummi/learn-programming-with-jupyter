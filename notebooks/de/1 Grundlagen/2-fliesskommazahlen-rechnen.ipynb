{
 "cells": [
  {
   "cell_type": "markdown",
   "metadata": {},
   "source": [
    "# Dein Job: Abrechnung der Tische\n",
    "\n",
    "Herzlichen Glückwunsch, Du wurdest befördert! Du hast sehr gutes Berechnungs-Geschick unter Beweiß gestellt und darfst nun die Beträge zusammenrechnen und die Rechnungen überreichen.\n",
    "\n",
    "<img src=\"../../../images/de/restaurant/kassierer.png\">"
   ]
  },
  {
   "cell_type": "markdown",
   "metadata": {},
   "source": [
    "Dein nächste Job ist es, die in der Kasse gebuchten Bestellungen für jeden Tisch zusammenzurechnen. \n",
    "\n",
    "Du kannst hierbei gut auf die in der letzten Lektion gelernten Fähigkeiten zurückgreifen, um nun auch die etwas schwereren Berechnungen durchführen zu können."
   ]
  },
  {
   "cell_type": "markdown",
   "metadata": {},
   "source": []
  }
 ],
 "metadata": {
  "kernelspec": {
   "display_name": ".venv",
   "language": "python",
   "name": "python3"
  },
  "language_info": {
   "codemirror_mode": {
    "name": "ipython",
    "version": 3
   },
   "file_extension": ".py",
   "mimetype": "text/x-python",
   "name": "python",
   "nbconvert_exporter": "python",
   "pygments_lexer": "ipython3",
   "version": "3.12.4"
  }
 },
 "nbformat": 4,
 "nbformat_minor": 2
}

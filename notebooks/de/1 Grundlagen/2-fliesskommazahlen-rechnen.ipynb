{
 "cells": [
  {
   "cell_type": "markdown",
   "metadata": {},
   "source": [
    "# Dein Job: Abrechnung der Tische\n",
    "\n",
    "<img src=\"../../../images/de/restaurant/kassierer.png\"> \n",
    "\n",
    "Herzlichen Glückwunsch, Du wurdest befördert! Du hast sehr gutes Berechnungs-Geschick unter Beweiß gestellt und darfst nun die Beträge zusammenrechnen und die Rechnungen überreichen."
   ]
  },
  {
   "cell_type": "markdown",
   "metadata": {},
   "source": [
    "Dein nächste Job ist es, die in der Kasse gebuchten Bestellungen für jeden Tisch zusammenzurechnen. Dazu findest du hier die Speisekarte:"
   ]
  },
  {
   "cell_type": "code",
   "execution_count": 1,
   "metadata": {},
   "outputs": [
    {
     "data": {
      "text/html": [
       "<div>\n",
       "<style scoped>\n",
       "    .dataframe tbody tr th:only-of-type {\n",
       "        vertical-align: middle;\n",
       "    }\n",
       "\n",
       "    .dataframe tbody tr th {\n",
       "        vertical-align: top;\n",
       "    }\n",
       "\n",
       "    .dataframe thead th {\n",
       "        text-align: right;\n",
       "    }\n",
       "</style>\n",
       "<table border=\"1\" class=\"dataframe\">\n",
       "  <thead>\n",
       "    <tr style=\"text-align: right;\">\n",
       "      <th></th>\n",
       "      <th></th>\n",
       "      <th>Preis (€)</th>\n",
       "    </tr>\n",
       "    <tr>\n",
       "      <th>Kategorie</th>\n",
       "      <th>Speise</th>\n",
       "      <th></th>\n",
       "    </tr>\n",
       "  </thead>\n",
       "  <tbody>\n",
       "    <tr>\n",
       "      <th rowspan=\"4\" valign=\"top\">Getränk</th>\n",
       "      <th>Pappiger Milkshake</th>\n",
       "      <td>3.49</td>\n",
       "    </tr>\n",
       "    <tr>\n",
       "      <th>Müffelnde Cola</th>\n",
       "      <td>1.99</td>\n",
       "    </tr>\n",
       "    <tr>\n",
       "      <th>Sabberiger Softdrink</th>\n",
       "      <td>2.29</td>\n",
       "    </tr>\n",
       "    <tr>\n",
       "      <th>Käselüftender Soda</th>\n",
       "      <td>2.49</td>\n",
       "    </tr>\n",
       "    <tr>\n",
       "      <th rowspan=\"4\" valign=\"top\">Vorspeise</th>\n",
       "      <th>Gammelige Onion Rings</th>\n",
       "      <td>3.99</td>\n",
       "    </tr>\n",
       "    <tr>\n",
       "      <th>Bröselige Nachos</th>\n",
       "      <td>4.49</td>\n",
       "    </tr>\n",
       "    <tr>\n",
       "      <th>Matschepampige Mozzarella Sticks</th>\n",
       "      <td>3.79</td>\n",
       "    </tr>\n",
       "    <tr>\n",
       "      <th>Quatschiger Salat</th>\n",
       "      <td>2.99</td>\n",
       "    </tr>\n",
       "    <tr>\n",
       "      <th rowspan=\"12\" valign=\"top\">Hauptmahlzeit</th>\n",
       "      <th>Ranziger Burger</th>\n",
       "      <td>6.49</td>\n",
       "    </tr>\n",
       "    <tr>\n",
       "      <th>Knusprig-Matschige Pommes</th>\n",
       "      <td>2.79</td>\n",
       "    </tr>\n",
       "    <tr>\n",
       "      <th>Schmierlappiger Cheeseburger</th>\n",
       "      <td>5.89</td>\n",
       "    </tr>\n",
       "    <tr>\n",
       "      <th>Wabberiger Hotdog</th>\n",
       "      <td>3.99</td>\n",
       "    </tr>\n",
       "    <tr>\n",
       "      <th>Zotteliger Wrap</th>\n",
       "      <td>5.29</td>\n",
       "    </tr>\n",
       "    <tr>\n",
       "      <th>Schmaddeliger Chickenburger</th>\n",
       "      <td>5.79</td>\n",
       "    </tr>\n",
       "    <tr>\n",
       "      <th>Brotzeliger Fishburger</th>\n",
       "      <td>5.99</td>\n",
       "    </tr>\n",
       "    <tr>\n",
       "      <th>Quakige Quesadilla</th>\n",
       "      <td>4.69</td>\n",
       "    </tr>\n",
       "    <tr>\n",
       "      <th>Zähschleimiger Burrito</th>\n",
       "      <td>6.39</td>\n",
       "    </tr>\n",
       "    <tr>\n",
       "      <th>Matschfrische Pizza</th>\n",
       "      <td>7.49</td>\n",
       "    </tr>\n",
       "    <tr>\n",
       "      <th>Käsefußige Tenders</th>\n",
       "      <td>4.49</td>\n",
       "    </tr>\n",
       "    <tr>\n",
       "      <th>Käsig-Schleimige Wings</th>\n",
       "      <td>4.99</td>\n",
       "    </tr>\n",
       "    <tr>\n",
       "      <th rowspan=\"8\" valign=\"top\">Nachspeise</th>\n",
       "      <th>Matschpampeartiger Donut</th>\n",
       "      <td>2.49</td>\n",
       "    </tr>\n",
       "    <tr>\n",
       "      <th>Schmodderiger Muffin</th>\n",
       "      <td>2.49</td>\n",
       "    </tr>\n",
       "    <tr>\n",
       "      <th>Wurstiger Brownie</th>\n",
       "      <td>2.99</td>\n",
       "    </tr>\n",
       "    <tr>\n",
       "      <th>Sabberleckerer Pancake</th>\n",
       "      <td>3.19</td>\n",
       "    </tr>\n",
       "    <tr>\n",
       "      <th>Klätschige Waffle</th>\n",
       "      <td>3.49</td>\n",
       "    </tr>\n",
       "    <tr>\n",
       "      <th>Verschimmeltes Garlic Bread</th>\n",
       "      <td>2.89</td>\n",
       "    </tr>\n",
       "    <tr>\n",
       "      <th>Käseschimmeliger Croissant</th>\n",
       "      <td>2.49</td>\n",
       "    </tr>\n",
       "    <tr>\n",
       "      <th>Muffeliges Ice Cream</th>\n",
       "      <td>2.49</td>\n",
       "    </tr>\n",
       "  </tbody>\n",
       "</table>\n",
       "</div>"
      ],
      "text/plain": [
       "                                               Preis (€)\n",
       "Kategorie     Speise                                    \n",
       "Getränk       Pappiger Milkshake                    3.49\n",
       "              Müffelnde Cola                        1.99\n",
       "              Sabberiger Softdrink                  2.29\n",
       "              Käselüftender Soda                    2.49\n",
       "Vorspeise     Gammelige Onion Rings                 3.99\n",
       "              Bröselige Nachos                      4.49\n",
       "              Matschepampige Mozzarella Sticks      3.79\n",
       "              Quatschiger Salat                     2.99\n",
       "Hauptmahlzeit Ranziger Burger                       6.49\n",
       "              Knusprig-Matschige Pommes             2.79\n",
       "              Schmierlappiger Cheeseburger          5.89\n",
       "              Wabberiger Hotdog                     3.99\n",
       "              Zotteliger Wrap                       5.29\n",
       "              Schmaddeliger Chickenburger           5.79\n",
       "              Brotzeliger Fishburger                5.99\n",
       "              Quakige Quesadilla                    4.69\n",
       "              Zähschleimiger Burrito                6.39\n",
       "              Matschfrische Pizza                   7.49\n",
       "              Käsefußige Tenders                    4.49\n",
       "              Käsig-Schleimige Wings                4.99\n",
       "Nachspeise    Matschpampeartiger Donut              2.49\n",
       "              Schmodderiger Muffin                  2.49\n",
       "              Wurstiger Brownie                     2.99\n",
       "              Sabberleckerer Pancake                3.19\n",
       "              Klätschige Waffle                     3.49\n",
       "              Verschimmeltes Garlic Bread           2.89\n",
       "              Käseschimmeliger Croissant            2.49\n",
       "              Muffeliges Ice Cream                  2.49"
      ]
     },
     "execution_count": 1,
     "metadata": {},
     "output_type": "execute_result"
    }
   ],
   "source": [
    "from speisekarte import speisekarte\n",
    "speisekarte"
   ]
  },
  {
   "cell_type": "markdown",
   "metadata": {},
   "source": [
    "Dein erster Arbeitstag. Du hattest kein Mittagessen und dein Chef spendiert dir ein kleines Menü:\n",
    "\n",
    "Eine Müffelnde Cola und einen Ranzien Burger\n",
    "\n",
    "Das würde kosten:"
   ]
  },
  {
   "cell_type": "code",
   "execution_count": 5,
   "metadata": {},
   "outputs": [
    {
     "data": {
      "text/plain": [
       "8.48"
      ]
     },
     "execution_count": 5,
     "metadata": {},
     "output_type": "execute_result"
    }
   ],
   "source": [
    "1.99 + 6.49"
   ]
  },
  {
   "cell_type": "markdown",
   "metadata": {},
   "source": [
    "Du könntest es auch so schreiben (das ist sinnvoll bei längeren Bestell-Listen):"
   ]
  },
  {
   "cell_type": "code",
   "execution_count": 6,
   "metadata": {},
   "outputs": [
    {
     "data": {
      "text/plain": [
       "8.48"
      ]
     },
     "execution_count": 6,
     "metadata": {},
     "output_type": "execute_result"
    }
   ],
   "source": [
    "1.99 + \\\n",
    "6.49\n",
    "# Das \"\\\"-Zeichen erlaubt einen Befehl über mehrere Zeilen"
   ]
  },
  {
   "cell_type": "markdown",
   "metadata": {},
   "source": [
    "oder ..."
   ]
  },
  {
   "cell_type": "code",
   "execution_count": null,
   "metadata": {},
   "outputs": [],
   "source": [
    "(\n",
    "    1.99 + \n",
    "    6.49\n",
    ")\n",
    "# Einen Befehl kann man mit Klammern über mehrere Zeilen schreiben"
   ]
  },
  {
   "cell_type": "markdown",
   "metadata": {},
   "source": [
    "## Deine Aufgabe\n",
    "\n",
    "In einer kleinen, schrägen Burger-und-Buletten-Bude irgendwo in Deutschland gehen die Bestellungen heute so richtig durch die Decke!\n",
    "\n",
    "Die Kunden?\n",
    "\n",
    "Ein Haufen lustiger Gestalten mit Vorliebe für... naja, sagen wir mal ungewöhnliche Speisen."
   ]
  },
  {
   "cell_type": "markdown",
   "metadata": {},
   "source": [
    "### 1. Da wäre zum Beispiel Horst Wackelpudding, der sich heute mal richtig was gönnt: \n",
    "\n",
    "Einen wabberigen Hotdog, dazu knusprig-matschige Pommes und als Krönung einen sabberigen Softdrink. Aber das Beste daran? Horst hat natürlich einen 10%-Rabatt-Gutschein für Getränke dabei. \"Sabber im Drink, Sabber im Portemonnaie!\" sagt er und grinst dabei so breit, dass man sich fragt, ob da auch noch Sabber im Spiel ist.\n",
    "\n",
    "Erstelle seine Rechnung!"
   ]
  },
  {
   "cell_type": "code",
   "execution_count": null,
   "metadata": {},
   "outputs": [],
   "source": []
  },
  {
   "cell_type": "markdown",
   "metadata": {},
   "source": [
    "## 2. Und wer kommt da? Ach, die gute alte Erika Quarknase.\n",
    "\n",
    "Sie bestellt sich ohne Zögern einen zotteligen Wrap und entscheidet sich dann noch für muffeliges Ice Cream. Das bekommt sie heute gratis – es ist schließlich Muffeltag, und Erika ist die Königin des Muffelns! Natürlich darf auch der pappige Milkshake nicht fehlen, den Erika mit einem dicken 10%-Rabatt abstaubt. \"Extra papprig bitte, wie mein Humor!\" ruft sie noch.\n",
    "\n",
    "Erstelle ihre Rechnung!"
   ]
  },
  {
   "cell_type": "code",
   "execution_count": null,
   "metadata": {},
   "outputs": [],
   "source": []
  },
  {
   "cell_type": "markdown",
   "metadata": {},
   "source": [
    "## 3. Fritz Schmatzbacke schlurft herein, schon halb vollgefuttert, aber das hält ihn nicht auf. \n",
    "\n",
    "Er ordert einen ranzigen Burger, matschepampige Mozzarella Sticks und – wie könnte es anders sein – eine müffelnde Cola. Fritz packt stolz seinen 10%-Rabatt-Gutschein aus, als er die Cola abholt. \"Müffeln allein reicht nicht, das muss auch billiger sein!\""
   ]
  },
  {
   "cell_type": "code",
   "execution_count": null,
   "metadata": {},
   "outputs": [],
   "source": []
  },
  {
   "cell_type": "markdown",
   "metadata": {},
   "source": [
    "## 4. Ursula Schleimschnute lässt sich nicht lumpen.\n",
    "\n",
    "Sie bestellt sofort den zähschleimigen Burrito. Der klingt genauso, wie man sich Ursulas Stimme vorstellt, schleimig und irgendwie schwer greifbar. Dazu gibt’s käsefußige Tenders, und weil sie so charmant grinst, kriegt sie auch noch einen sabberleckeren Pancake gratis. \"Sabber ist meine Spezialität!\" erklärt sie stolz."
   ]
  },
  {
   "cell_type": "code",
   "execution_count": null,
   "metadata": {},
   "outputs": [],
   "source": []
  },
  {
   "cell_type": "markdown",
   "metadata": {},
   "source": [
    "## 5. Dann steht da Dieter Dödelkopf am Tresen. \n",
    "\n",
    "Seine Bestellung? Ein schmierlappiger Cheeseburger, gammelige Onion Rings und ein käselüftender Soda. Aber natürlich nicht ohne seinen 10%-Rabatt-Gutschein für den Soda, weil, Zitat: \"Ich bezahle ungern für Käseluft!\""
   ]
  },
  {
   "cell_type": "code",
   "execution_count": null,
   "metadata": {},
   "outputs": [],
   "source": []
  },
  {
   "cell_type": "markdown",
   "metadata": {},
   "source": [
    "## 6. Und da kommt Helga Plattfuß hereingetrampelt.\n",
    "\n",
    "Sie bestellt eine quakige Quesadilla, dazu bröselige Nachos und, als wäre das noch nicht genug, eine klätschige Waffle. Sie lacht laut: \"Eine Waffel, die klätscht? Ja, her damit! Und dazu ein 10%-Rabatt auf mein Grinsen, wenn das klappt!\""
   ]
  },
  {
   "cell_type": "code",
   "execution_count": null,
   "metadata": {},
   "outputs": [],
   "source": []
  },
  {
   "cell_type": "markdown",
   "metadata": {},
   "source": [
    "Ja, in dieser schrägen Burger-und-Buletten-Bude ist wirklich niemand normal – aber das Essen? Nun ja, sagen wir mal, es ist genauso besonders wie die Kundschaft!"
   ]
  },
  {
   "cell_type": "markdown",
   "metadata": {},
   "source": []
  }
 ],
 "metadata": {
  "kernelspec": {
   "display_name": ".venv",
   "language": "python",
   "name": "python3"
  },
  "language_info": {
   "codemirror_mode": {
    "name": "ipython",
    "version": 3
   },
   "file_extension": ".py",
   "mimetype": "text/x-python",
   "name": "python",
   "nbconvert_exporter": "python",
   "pygments_lexer": "ipython3",
   "version": "3.12.5"
  }
 },
 "nbformat": 4,
 "nbformat_minor": 2
}

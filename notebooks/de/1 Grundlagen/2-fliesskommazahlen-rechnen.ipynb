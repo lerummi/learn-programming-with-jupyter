{
 "cells": [
  {
   "cell_type": "markdown",
   "metadata": {},
   "source": [
    "# Dein Job: Abrechnung der Tische\n",
    "\n",
    "<img src=\"../../../images/de/restaurant/kassierer.png\"> \n",
    "\n",
    "Herzlichen Glückwunsch, Du wurdest befördert! Du hast sehr gutes Berechnungs-Geschick unter Beweiß gestellt und darfst nun die Beträge zusammenrechnen und die Rechnungen überreichen."
   ]
  },
  {
   "cell_type": "markdown",
   "metadata": {},
   "source": [
    "Dein nächste Job ist es, die in der Kasse gebuchten Bestellungen für jeden Tisch zusammenzurechnen. Dazu findest du hier die Speisekarte:"
   ]
  },
  {
   "cell_type": "code",
   "execution_count": null,
   "metadata": {},
   "outputs": [],
   "source": [
    "from speisekarte import speisekarte\n",
    "speisekarte"
   ]
  },
  {
   "cell_type": "markdown",
   "metadata": {},
   "source": [
    "Dein erster Arbeitstag. Du hattest kein Mittagessen und dein Chef spendiert dir ein kleines Menü:\n",
    "\n",
    "Eine Müffelnde Cola und einen Ranzien Burger\n",
    "\n",
    "Das würde kosten:"
   ]
  },
  {
   "cell_type": "code",
   "execution_count": null,
   "metadata": {},
   "outputs": [],
   "source": [
    "1.99 + 6.49"
   ]
  },
  {
   "cell_type": "markdown",
   "metadata": {},
   "source": [
    "Du könntest es auch so schreiben (das ist sinnvoll bei längeren Bestell-Listen):"
   ]
  },
  {
   "cell_type": "code",
   "execution_count": null,
   "metadata": {},
   "outputs": [],
   "source": [
    "1.99 + \\\n",
    "6.49\n",
    "# Das \"\\\"-Zeichen erlaubt einen Befehl über mehrere Zeilen"
   ]
  },
  {
   "cell_type": "markdown",
   "metadata": {},
   "source": [
    "oder ..."
   ]
  },
  {
   "cell_type": "code",
   "execution_count": null,
   "metadata": {},
   "outputs": [],
   "source": [
    "(\n",
    "    1.99 + \n",
    "    6.49\n",
    ")\n",
    "# Einen Befehl kann man mit Klammern über mehrere Zeilen schreiben"
   ]
  },
  {
   "cell_type": "markdown",
   "metadata": {},
   "source": [
    "## Deine Aufgabe\n",
    "\n",
    "In einer kleinen, schrägen Burger-und-Buletten-Bude irgendwo in Deutschland gehen die Bestellungen heute so richtig durch die Decke!\n",
    "\n",
    "Die Kunden?\n",
    "\n",
    "Ein Haufen lustiger Gestalten mit Vorliebe für... naja, sagen wir mal ungewöhnliche Speisen."
   ]
  },
  {
   "cell_type": "markdown",
   "metadata": {},
   "source": [
    "### 1. Da wäre zum Beispiel Horst Wackelpudding, der sich heute mal richtig was gönnt: \n",
    "\n",
    "Einen wabberigen Hotdog, dazu knusprig-matschige Pommes und als Krönung einen sabberigen Softdrink. Aber das Beste daran? Horst hat natürlich einen 10%-Rabatt-Gutschein für Getränke dabei. \"Sabber im Drink, Sabber im Portemonnaie!\" sagt er und grinst dabei so breit, dass man sich fragt, ob da auch noch Sabber im Spiel ist.\n",
    "\n",
    "Erstelle seine Rechnung!"
   ]
  },
  {
   "cell_type": "code",
   "execution_count": null,
   "metadata": {},
   "outputs": [],
   "source": []
  },
  {
   "cell_type": "markdown",
   "metadata": {},
   "source": [
    "## 2. Und wer kommt da? Ach, die gute alte Erika Quarknase.\n",
    "\n",
    "Sie bestellt sich ohne Zögern einen zotteligen Wrap und entscheidet sich dann noch für muffeliges Ice Cream. Das bekommt sie heute gratis – es ist schließlich Muffeltag, und Erika ist die Königin des Muffelns! Natürlich darf auch der pappige Milkshake nicht fehlen, den Erika mit einem dicken 10%-Rabatt abstaubt. \"Extra papprig bitte, wie mein Humor!\" ruft sie noch.\n",
    "\n",
    "Erstelle ihre Rechnung!"
   ]
  },
  {
   "cell_type": "code",
   "execution_count": null,
   "metadata": {},
   "outputs": [],
   "source": []
  },
  {
   "cell_type": "markdown",
   "metadata": {},
   "source": [
    "## 3. Fritz Schmatzbacke schlurft herein, schon halb vollgefuttert, aber das hält ihn nicht auf. \n",
    "\n",
    "Er ordert einen ranzigen Burger, matschepampige Mozzarella Sticks und – wie könnte es anders sein – eine müffelnde Cola. Fritz packt stolz seinen 10%-Rabatt-Gutschein aus, als er die Cola abholt. \"Müffeln allein reicht nicht, das muss auch billiger sein!\"\n",
    "\n",
    "Erstelle ihre Rechnung!"
   ]
  },
  {
   "cell_type": "code",
   "execution_count": null,
   "metadata": {},
   "outputs": [],
   "source": []
  },
  {
   "cell_type": "markdown",
   "metadata": {},
   "source": [
    "## 4. Ursula Schleimschnute lässt sich nicht lumpen.\n",
    "\n",
    "Sie bestellt sofort den zähschleimigen Burrito. Der klingt genauso, wie man sich Ursulas Stimme vorstellt, schleimig und irgendwie schwer greifbar. Dazu gibt’s käsefußige Tenders, und weil sie so charmant grinst, kriegt sie auch noch einen sabberleckeren Pancake gratis. \"Sabber ist meine Spezialität!\" erklärt sie stolz.\n",
    "\n",
    "Erstelle ihre Rechnung!"
   ]
  },
  {
   "cell_type": "code",
   "execution_count": null,
   "metadata": {},
   "outputs": [],
   "source": []
  },
  {
   "cell_type": "markdown",
   "metadata": {},
   "source": [
    "## 5. Dann steht da Dieter Dödelkopf am Tresen. \n",
    "\n",
    "Seine Bestellung? Ein schmierlappiger Cheeseburger, gammelige Onion Rings und ein käselüftender Soda. Aber natürlich nicht ohne seinen 10%-Rabatt-Gutschein für den Soda, weil, Zitat: \"Ich bezahle ungern für Käseluft!\"\n",
    "\n",
    "Erstelle ihre Rechnung!"
   ]
  },
  {
   "cell_type": "code",
   "execution_count": null,
   "metadata": {},
   "outputs": [],
   "source": []
  },
  {
   "cell_type": "markdown",
   "metadata": {},
   "source": [
    "## 6. Und da kommt Helga Plattfuß hereingetrampelt.\n",
    "\n",
    "Sie bestellt eine quakige Quesadilla, dazu bröselige Nachos und, als wäre das noch nicht genug, eine klätschige Waffle. Sie lacht laut: \"Eine Waffel, die klätscht? Ja, her damit! Und dazu ein 10%-Rabatt auf mein Grinsen, wenn das klappt!\"\n",
    "\n",
    "Erstelle ihre Rechnung!"
   ]
  },
  {
   "cell_type": "code",
   "execution_count": null,
   "metadata": {},
   "outputs": [],
   "source": []
  },
  {
   "cell_type": "markdown",
   "metadata": {},
   "source": [
    "Ja, in dieser schrägen Burger-und-Buletten-Bude ist wirklich niemand normal – aber das Essen? Nun ja, sagen wir mal, es ist genauso besonders wie die Kundschaft!"
   ]
  },
  {
   "cell_type": "markdown",
   "metadata": {},
   "source": []
  }
 ],
 "metadata": {
  "kernelspec": {
   "display_name": ".venv",
   "language": "python",
   "name": "python3"
  },
  "language_info": {
   "codemirror_mode": {
    "name": "ipython",
    "version": 3
   },
   "file_extension": ".py",
   "mimetype": "text/x-python",
   "name": "python",
   "nbconvert_exporter": "python",
   "pygments_lexer": "ipython3",
   "version": "3.12.5"
  }
 },
 "nbformat": 4,
 "nbformat_minor": 2
}

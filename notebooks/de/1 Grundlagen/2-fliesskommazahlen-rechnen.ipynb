{
 "cells": [
  {
   "cell_type": "markdown",
   "metadata": {},
   "source": [
    "# Dein Job: Abrechnung der Tische\n",
    "\n",
    "<img src=\"../../../images/de/restaurant/kassierer.png\"> \n",
    "\n",
    "Herzlichen Glückwunsch, Du wurdest befördert! Du hast sehr gutes Berechnungs-Geschick unter Beweiß gestellt und darfst nun die Beträge zusammenrechnen und die Rechnungen überreichen."
   ]
  },
  {
   "cell_type": "markdown",
   "metadata": {},
   "source": [
    "Dein nächste Job ist es, die in der Kasse gebuchten Bestellungen für jeden Tisch zusammenzurechnen. Dazu findest du hier die Speisekarte:"
   ]
  },
  {
   "cell_type": "code",
   "execution_count": null,
   "metadata": {},
   "outputs": [],
   "source": [
    "from speisekarte import speisekarte\n",
    "speisekarte"
   ]
  },
  {
   "cell_type": "markdown",
   "metadata": {},
   "source": [
    "Dein erster Arbeitstag. Du hattest kein Mittagessen und dein Chef spendiert dir ein kleines Menü:\n",
    "- 1 Müffelnde Cola\n",
    "- 1 Ranzien Burger\n",
    "\n",
    "Das würde kosten:"
   ]
  },
  {
   "cell_type": "code",
   "execution_count": null,
   "metadata": {},
   "outputs": [],
   "source": [
    "1.99 + 6.49"
   ]
  },
  {
   "cell_type": "markdown",
   "metadata": {},
   "source": [
    "Du könntest es auch so schreiben (das ist sinnvoll bei längeren Bestell-Listen):"
   ]
  },
  {
   "cell_type": "code",
   "execution_count": null,
   "metadata": {},
   "outputs": [],
   "source": [
    "1.99 + \\\n",
    "6.49\n",
    "# Das \"\\\"-Zeichen erlaubt einen Befehl über mehrere Zeilen"
   ]
  },
  {
   "cell_type": "markdown",
   "metadata": {},
   "source": [
    "oder ..."
   ]
  },
  {
   "cell_type": "code",
   "execution_count": null,
   "metadata": {},
   "outputs": [],
   "source": [
    "(\n",
    "    1.99 + \n",
    "    6.49\n",
    ")\n",
    "# Einen Befehl kann man mit Klammern über mehrere Zeilen schreiben"
   ]
  },
  {
   "cell_type": "code",
   "execution_count": null,
   "metadata": {},
   "outputs": [],
   "source": []
  }
 ],
 "metadata": {
  "kernelspec": {
   "display_name": ".venv",
   "language": "python",
   "name": "python3"
  },
  "language_info": {
   "codemirror_mode": {
    "name": "ipython",
    "version": 3
   },
   "file_extension": ".py",
   "mimetype": "text/x-python",
   "name": "python",
   "nbconvert_exporter": "python",
   "pygments_lexer": "ipython3",
   "version": "3.12.4"
  }
 },
 "nbformat": 4,
 "nbformat_minor": 2
}

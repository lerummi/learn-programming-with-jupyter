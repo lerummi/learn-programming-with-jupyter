{
 "cells": [
  {
   "cell_type": "markdown",
   "metadata": {},
   "source": [
    "# Finde den Weg durch das Labyrinth\n",
    "\n",
    "Nun ist es Zeit, dein Wissen anzuwenden. In dieser Aufgabe gilt es, automatisch den Weg durch ein unbekanntes Labyrinth zu finden, das man nicht kennt. Die Lösung wird in einem **Algorithmus** definiert. Das ist ein Programm, welches durchlaufen wird und bei korrekter Umsetzung **immer** eine Lösung des Problems liefert.\n",
    "\n",
    "Lass uns zunächst das Labyrinth definieren und ein Paar Eigenschaften dessen überprüfen."
   ]
  },
  {
   "cell_type": "code",
   "execution_count": 2,
   "metadata": {},
   "outputs": [],
   "source": [
    "from labyrinth import (\n",
    "    erstelle_labyrinth, \n",
    "    zeichne_labyrinth,\n",
    "    eingang,\n",
    "    ausgang, \n",
    "    wegelemente,\n",
    "    ist_freies_feld,\n",
    "    zeige_weg\n",
    ")"
   ]
  },
  {
   "cell_type": "markdown",
   "metadata": {},
   "source": [
    "Zunächst erstellen wir das Labyrinth."
   ]
  },
  {
   "cell_type": "code",
   "execution_count": null,
   "metadata": {},
   "outputs": [],
   "source": [
    "maze = erstelle_labyrinth(hoehe=21, breite=21)\n",
    "maze"
   ]
  },
  {
   "cell_type": "markdown",
   "metadata": {},
   "source": [
    "Die Struktur sieht erst einmal neu aus, aber es einfach zu verstehen. Ein Labyrinth kann aus der Vogelperspektive als 2D-Objekt dargestellt werden, sodass überall wo eine `0` steht, ein Weg ist und überall, wo eine `1` steht eine Wand ist. Wir können genau das visualisieren. "
   ]
  },
  {
   "cell_type": "code",
   "execution_count": null,
   "metadata": {},
   "outputs": [],
   "source": [
    "zeichne_labyrinth(maze)"
   ]
  },
  {
   "cell_type": "markdown",
   "metadata": {},
   "source": [
    "Wir können auch den Eingang und den Ausgang definieren. Der Eingang ist immer am unteren Bildrand, der Ausgang am oberen. Jede Position kann durch zwei Zahlen beschrieben werden, eine x- und eine y-Koordinate."
   ]
  },
  {
   "cell_type": "code",
   "execution_count": null,
   "metadata": {},
   "outputs": [],
   "source": [
    "# Eingang\n",
    "X, Y = eingang(maze)\n",
    "print(\"Eingang: \", X, Y)\n",
    "\n",
    "# Ausgang\n",
    "Xa, Ya = ausgang(maze)\n",
    "print(\"ausgang: \", Xa, Ya)"
   ]
  },
  {
   "cell_type": "markdown",
   "metadata": {},
   "source": [
    "Folgende Funktion liefert uns alle Wegpunkte (x, y) im Labyrinth, also solche die keine Wand sind. "
   ]
  },
  {
   "cell_type": "code",
   "execution_count": null,
   "metadata": {},
   "outputs": [],
   "source": [
    "wegelemente(maze)[:10]"
   ]
  },
  {
   "cell_type": "markdown",
   "metadata": {},
   "source": [
    "Folgende Funktion lässt uns überprüfen, ob ein freies Feld (x, y) ein *freies Feld*, also ein Wegpunkt, ist."
   ]
  },
  {
   "cell_type": "code",
   "execution_count": null,
   "metadata": {},
   "outputs": [],
   "source": [
    "x = 1\n",
    "y = 0\n",
    "ist_freies_feld(x, y, maze)"
   ]
  },
  {
   "cell_type": "markdown",
   "metadata": {},
   "source": [
    "# Der Algorithmus\n",
    "\n",
    "Der Algorithmus, den wir implementieren werden, folgt der sogenannten [Rechte-Hand-Methode](https://de.wikipedia.org/wiki/Lösungsalgorithmen_für_Irrgärten#Rechte-Hand-Methode). Sie sagt, dass man zum Ziel kommt, indem man seine rechte Hand an die Wand legt und immer der Wand folgt. Dann kommt man immer zum Ausgang. Doch was heißt das für für unseren Algorithmus? Es bedeutet:\n",
    "\n",
    "- Gehe rechts, wenn dort keine Wand ist, sonst\n",
    "- Gehe geradeaus, wenn dort keine Wand ist, sonst\n",
    "- Gehe links, wenn dort keine Wand ist, sonst\n",
    "- Gehe zurück.\n",
    "\n",
    "Diesen Algorithmus werden wir in der Funktion `neachstes Feld` (unten) verarbeiten. Zuerst müssen wir aber überlegen, was *Richtung* eigentlich bedeutet. Richtung ist eine Veränderung der Position (x, y) -> (x + dx, y + dy), wobei dx and dy jeweils die Bewegungen in Richtung x (positive heißt nach vorne, negative heißt zurück) und y entspricht. "
   ]
  },
  {
   "cell_type": "markdown",
   "metadata": {},
   "source": [
    "Definiere zuerst eine Funktion, die abhängig davon, in welche Richtung gegangen worden ist, die nächste RIchtung\n",
    "\n",
    "- vor\n",
    "- zurück\n",
    "- links oder \n",
    "- rechts\n",
    "\n",
    "ist. Wie ergibt sich, die neue Richtung, in die man gehen muss? Ergänze die ... durch sinnvolle Ausdrücke!"
   ]
  },
  {
   "cell_type": "code",
   "execution_count": null,
   "metadata": {},
   "outputs": [],
   "source": [
    "def gehe_nach(richtung, dx, dy):\n",
    "\n",
    "    if richtung == \"vor\":\n",
    "        dx_neu = ...\n",
    "        dy_neu = ...\n",
    "    elif richtung == \"zurück\":\n",
    "        dx_neu = ...\n",
    "        dy_neu = ...\n",
    "    elif richtung == \"links\":\n",
    "        dx_neu = ...\n",
    "        dy_neu = ...\n",
    "    elif richtung == \"rechts\":\n",
    "        dx_neu = ...\n",
    "        dy_neu = ... \n",
    "\n",
    "    return dx_neu, dy_neu"
   ]
  },
  {
   "cell_type": "markdown",
   "metadata": {},
   "source": [
    "Nun kannst du die Funktion ausprobieren und am Beispiel sicher stellen, dass die Funktion richtig funktioniert."
   ]
  },
  {
   "cell_type": "code",
   "execution_count": null,
   "metadata": {},
   "outputs": [],
   "source": [
    "gehe_nach(\"vor\", 1, 0)"
   ]
  },
  {
   "cell_type": "markdown",
   "metadata": {},
   "source": [
    "Nun vervollständige die Funktion, die obige Reihenfolge der Richtungen, d.h. \"rechts\", \"vor\", \"links\", \"zurück\" darauf testet, ob man auf ein freies Feld trifft und wenn nicht, den eine andere Richtung geht. "
   ]
  },
  {
   "cell_type": "code",
   "execution_count": 9,
   "metadata": {},
   "outputs": [],
   "source": [
    "def naechstes_feld(x, y, dx, dy, maze):\n",
    "    \"\"\"\n",
    "    x, y: Punkt, an dem man steht\n",
    "    dx, dy: Richtung, in die im letzten Schritt gegangen ist\n",
    "    \"\"\"\n",
    "\n",
    "    richtungen = [...]\n",
    "\n",
    "    for richtung in richtungen:\n",
    "        dx_neu, dy_neu = gehe_nach(richtung, dx, dy)\n",
    "        x_neu = ...\n",
    "        y_neu = ...\n",
    "        if ist_freies_feld(x_neu, y_neu, maze):\n",
    "            break\n",
    "\n",
    "    return x_neu, y_neu, dx_neu, dy_neu"
   ]
  },
  {
   "cell_type": "markdown",
   "metadata": {},
   "source": [
    "Wenn du Funktion richtig definiert hast, sollte folgende Visualisierung den Weg zum Ausgang finden"
   ]
  },
  {
   "cell_type": "code",
   "execution_count": null,
   "metadata": {},
   "outputs": [],
   "source": [
    "zeige_weg(maze, naechstes_feld)"
   ]
  }
 ],
 "metadata": {
  "kernelspec": {
   "display_name": ".venv",
   "language": "python",
   "name": "python3"
  },
  "language_info": {
   "codemirror_mode": {
    "name": "ipython",
    "version": 3
   },
   "file_extension": ".py",
   "mimetype": "text/x-python",
   "name": "python",
   "nbconvert_exporter": "python",
   "pygments_lexer": "ipython3",
   "version": "3.13.1"
  }
 },
 "nbformat": 4,
 "nbformat_minor": 2
}
